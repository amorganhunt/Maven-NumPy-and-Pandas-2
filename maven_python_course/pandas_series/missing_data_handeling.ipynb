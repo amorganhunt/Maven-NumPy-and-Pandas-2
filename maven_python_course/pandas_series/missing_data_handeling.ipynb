{
 "cells": [
  {
   "cell_type": "markdown",
   "metadata": {},
   "source": [
    "# Missing Data Handeling\n",
    "* Missing data in Pandas is ofthen represented by NumPy \"NaN\" values\n",
    "* Pandas treats NaN vaules as a float, which allows them to be used in a vectorized operation"
   ]
  },
  {
   "cell_type": "code",
   "execution_count": 1,
   "metadata": {},
   "outputs": [],
   "source": [
    "import numpy as np\n",
    "import pandas as pd"
   ]
  },
  {
   "cell_type": "code",
   "execution_count": 2,
   "metadata": {},
   "outputs": [
    {
     "data": {
      "text/plain": [
       "coffee       0.0\n",
       "bananas      5.0\n",
       "tea        155.0\n",
       "coconut      NaN\n",
       "sugar      518.0\n",
       "Name: Sales, dtype: float64"
      ]
     },
     "execution_count": 2,
     "metadata": {},
     "output_type": "execute_result"
    }
   ],
   "source": [
    "sales = [0, 5, 155, np.nan, 518]\n",
    "items = [\"coffee\", \"bananas\", \"tea\", \"coconut\", \"sugar\"]\n",
    "\n",
    "sales_series = pd.Series(sales, index=items, name=\"Sales\")\n",
    "sales_series"
   ]
  },
  {
   "cell_type": "markdown",
   "metadata": {},
   "source": [
    "### Pandas released its own missing data type, \"NA\".\n",
    "* This allows missing values to be stored as integers, instead of needing to convert to float\n",
    "* This is still a new feature, but most bugs end up converting the data to NumPy's NaN"
   ]
  },
  {
   "cell_type": "code",
   "execution_count": 3,
   "metadata": {},
   "outputs": [
    {
     "data": {
      "text/plain": [
       "coffee        0\n",
       "bananas       5\n",
       "tea         155\n",
       "coconut    <NA>\n",
       "sugar       518\n",
       "Name: Sales, dtype: object"
      ]
     },
     "execution_count": 3,
     "metadata": {},
     "output_type": "execute_result"
    }
   ],
   "source": [
    "sales = [0, 5, 155, pd.NA, 518]\n",
    "items = [\"coffee\", \"bananas\", \"tea\", \"coconut\", \"sugar\"]\n",
    "\n",
    "sales_series = pd.Series(sales, index=items, name=\"Sales\")\n",
    "sales_series"
   ]
  },
  {
   "cell_type": "markdown",
   "metadata": {},
   "source": [
    "## Identifying Missing Data"
   ]
  },
  {
   "cell_type": "markdown",
   "metadata": {},
   "source": [
    "* The .isna() and .value_counts() methods let you identify missing data in a Series\n",
    "* The .isna() method returns True if a value is missing, and False otherwise\n"
   ]
  },
  {
   "cell_type": "code",
   "execution_count": 4,
   "metadata": {},
   "outputs": [
    {
     "data": {
      "text/plain": [
       "0    Complete\n",
       "1         NaN\n",
       "2         NaN\n",
       "3         NaN\n",
       "4    Complete\n",
       "dtype: object"
      ]
     },
     "execution_count": 4,
     "metadata": {},
     "output_type": "execute_result"
    }
   ],
   "source": [
    "checklist = pd.Series(['Complete', np.NaN, np.NaN, np.NaN, 'Complete'])\n",
    "checklist"
   ]
  },
  {
   "cell_type": "code",
   "execution_count": 6,
   "metadata": {},
   "outputs": [
    {
     "data": {
      "text/plain": [
       "0    False\n",
       "1     True\n",
       "2     True\n",
       "3     True\n",
       "4    False\n",
       "dtype: bool"
      ]
     },
     "execution_count": 6,
     "metadata": {},
     "output_type": "execute_result"
    }
   ],
   "source": [
    "checklist.isna() "
   ]
  },
  {
   "cell_type": "markdown",
   "metadata": {},
   "source": [
    "* The .value_count() mehtod returns unique values and their frequency"
   ]
  },
  {
   "cell_type": "code",
   "execution_count": 8,
   "metadata": {},
   "outputs": [
    {
     "data": {
      "text/plain": [
       "Complete    2\n",
       "Name: count, dtype: int64"
      ]
     },
     "execution_count": 8,
     "metadata": {},
     "output_type": "execute_result"
    }
   ],
   "source": [
    "checklist.value_counts() # .value_counts() supresses NaN and NONE values"
   ]
  },
  {
   "cell_type": "code",
   "execution_count": null,
   "metadata": {},
   "outputs": [],
   "source": [
    "checklist.value_counts(dropna=False) # The dropna=False argument resolves this problem"
   ]
  },
  {
   "cell_type": "markdown",
   "metadata": {},
   "source": [
    "## Handeling Missing Data"
   ]
  },
  {
   "cell_type": "markdown",
   "metadata": {},
   "source": [
    "* The .dropna() and .fillna() methods let you handle missing data in a Series\n",
    "* The .dropna() method removes NaN values from your Series or DataFrame"
   ]
  },
  {
   "cell_type": "markdown",
   "metadata": {},
   "source": []
  }
 ],
 "metadata": {
  "kernelspec": {
   "display_name": "base",
   "language": "python",
   "name": "python3"
  },
  "language_info": {
   "codemirror_mode": {
    "name": "ipython",
    "version": 3
   },
   "file_extension": ".py",
   "mimetype": "text/x-python",
   "name": "python",
   "nbconvert_exporter": "python",
   "pygments_lexer": "ipython3",
   "version": "3.11.0"
  }
 },
 "nbformat": 4,
 "nbformat_minor": 2
}
