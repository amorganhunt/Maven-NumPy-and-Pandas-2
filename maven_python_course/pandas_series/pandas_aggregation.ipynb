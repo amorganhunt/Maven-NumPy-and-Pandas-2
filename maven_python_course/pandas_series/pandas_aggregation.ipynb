{
 "cells": [
  {
   "cell_type": "markdown",
   "metadata": {},
   "source": [
    "# Numeric Series Aggrigation"
   ]
  },
  {
   "cell_type": "markdown",
   "metadata": {},
   "source": [
    "* Methods for performing aggrigation on numerical Series"
   ]
  },
  {
   "cell_type": "code",
   "execution_count": 2,
   "metadata": {},
   "outputs": [],
   "source": [
    "import numpy as np\n",
    "import pandas as pd"
   ]
  },
  {
   "cell_type": "code",
   "execution_count": 47,
   "metadata": {},
   "outputs": [
    {
     "data": {
      "text/html": [
       "<div>\n",
       "<style scoped>\n",
       "    .dataframe tbody tr th:only-of-type {\n",
       "        vertical-align: middle;\n",
       "    }\n",
       "\n",
       "    .dataframe tbody tr th {\n",
       "        vertical-align: top;\n",
       "    }\n",
       "\n",
       "    .dataframe thead th {\n",
       "        text-align: right;\n",
       "    }\n",
       "</style>\n",
       "<table border=\"1\" class=\"dataframe\">\n",
       "  <thead>\n",
       "    <tr style=\"text-align: right;\">\n",
       "      <th></th>\n",
       "      <th>Method</th>\n",
       "      <th>Description</th>\n",
       "    </tr>\n",
       "  </thead>\n",
       "  <tbody>\n",
       "    <tr>\n",
       "      <th>0</th>\n",
       "      <td>.count()</td>\n",
       "      <td>Returns the number of items</td>\n",
       "    </tr>\n",
       "    <tr>\n",
       "      <th>1</th>\n",
       "      <td>.first(), .last()</td>\n",
       "      <td>Returns the first or last item</td>\n",
       "    </tr>\n",
       "    <tr>\n",
       "      <th>2</th>\n",
       "      <td>.mean(), .median()</td>\n",
       "      <td>Calculates the mean or median</td>\n",
       "    </tr>\n",
       "    <tr>\n",
       "      <th>3</th>\n",
       "      <td>.min(), .max()</td>\n",
       "      <td>Returns the the smallest or largest value</td>\n",
       "    </tr>\n",
       "    <tr>\n",
       "      <th>4</th>\n",
       "      <td>.argmax(), .argmin()</td>\n",
       "      <td>Returns the index for the smallest or largest values</td>\n",
       "    </tr>\n",
       "    <tr>\n",
       "      <th>5</th>\n",
       "      <td>.std(), .var()</td>\n",
       "      <td>Calculates the standard deviation or variance</td>\n",
       "    </tr>\n",
       "    <tr>\n",
       "      <th>6</th>\n",
       "      <td>.mad()</td>\n",
       "      <td>Calculates the mean absolute deviation</td>\n",
       "    </tr>\n",
       "    <tr>\n",
       "      <th>7</th>\n",
       "      <td>.prod()</td>\n",
       "      <td>Calculates the product of all the items</td>\n",
       "    </tr>\n",
       "    <tr>\n",
       "      <th>8</th>\n",
       "      <td>.sum()</td>\n",
       "      <td>Calculates the sum of all the items</td>\n",
       "    </tr>\n",
       "    <tr>\n",
       "      <th>9</th>\n",
       "      <td>.quantile()</td>\n",
       "      <td>Returns a specified percentile, or list of percentiles</td>\n",
       "    </tr>\n",
       "  </tbody>\n",
       "</table>\n",
       "</div>"
      ],
      "text/plain": [
       "                 Method  \\\n",
       "0              .count()   \n",
       "1     .first(), .last()   \n",
       "2    .mean(), .median()   \n",
       "3        .min(), .max()   \n",
       "4  .argmax(), .argmin()   \n",
       "5        .std(), .var()   \n",
       "6                .mad()   \n",
       "7               .prod()   \n",
       "8                .sum()   \n",
       "9           .quantile()   \n",
       "\n",
       "                                              Description  \n",
       "0                             Returns the number of items  \n",
       "1                          Returns the first or last item  \n",
       "2                           Calculates the mean or median  \n",
       "3               Returns the the smallest or largest value  \n",
       "4    Returns the index for the smallest or largest values  \n",
       "5           Calculates the standard deviation or variance  \n",
       "6                  Calculates the mean absolute deviation  \n",
       "7                 Calculates the product of all the items  \n",
       "8                     Calculates the sum of all the items  \n",
       "9  Returns a specified percentile, or list of percentiles  "
      ]
     },
     "execution_count": 47,
     "metadata": {},
     "output_type": "execute_result"
    }
   ],
   "source": [
    "numeric_method = ['.count()', '.first(), .last()', '.mean(), .median()', '.min(), .max()', '.argmax(), .argmin()', \n",
    "          '.std(), .var()', '.mad()', '.prod()', '.sum()', '.quantile()']\n",
    "\n",
    "numeric_description = ['Returns the number of items', 'Returns the first or last item', ' Calculates the mean or median', \n",
    "               'Returns the the smallest or largest value', 'Returns the index for the smallest or largest values',\n",
    "                 'Calculates the standard deviation or variance', 'Calculates the mean absolute deviation',\n",
    "               'Calculates the product of all the items', 'Calculates the sum of all the items', 'Returns a specified percentile, or list of percentiles']\n",
    "\n",
    "pd.set_option('display.max_colwidth', None)\n",
    "numeric_series_description = pd.DataFrame({'Method':numeric_method, 'Description':numeric_description})\n",
    "numeric_series_description"
   ]
  },
  {
   "cell_type": "code",
   "execution_count": 53,
   "metadata": {},
   "outputs": [
    {
     "data": {
      "text/plain": [
       "coffee       0.0\n",
       "coffee       5.0\n",
       "tea        155.0\n",
       "coconut      NaN\n",
       "sugar      518.0\n",
       "Name: Sales, dtype: float64"
      ]
     },
     "execution_count": 53,
     "metadata": {},
     "output_type": "execute_result"
    }
   ],
   "source": [
    "sales = [0, 5, 155, np.nan, 518]\n",
    "items = [\"coffee\", \"coffee\", \"tea\", \"coconut\", \"sugar\"]\n",
    "\n",
    "sales_series = pd.Series(sales, index=items, name=\"Sales\")\n",
    "sales_series"
   ]
  },
  {
   "cell_type": "code",
   "execution_count": 25,
   "metadata": {},
   "outputs": [
    {
     "data": {
      "text/plain": [
       "678.0"
      ]
     },
     "execution_count": 25,
     "metadata": {},
     "output_type": "execute_result"
    }
   ],
   "source": [
    "sales_series.sum() # calc the sum"
   ]
  },
  {
   "cell_type": "code",
   "execution_count": 26,
   "metadata": {},
   "outputs": [
    {
     "data": {
      "text/plain": [
       "5.0"
      ]
     },
     "execution_count": 26,
     "metadata": {},
     "output_type": "execute_result"
    }
   ],
   "source": [
    "sales_series.loc[\"coffee\"].sum() # sums all indexs with the value \"coffee\""
   ]
  },
  {
   "cell_type": "code",
   "execution_count": 27,
   "metadata": {},
   "outputs": [
    {
     "data": {
      "text/plain": [
       "0.25      3.75\n",
       "0.50     80.00\n",
       "0.75    245.75\n",
       "Name: Sales, dtype: float64"
      ]
     },
     "execution_count": 27,
     "metadata": {},
     "output_type": "execute_result"
    }
   ],
   "source": [
    "sales_series.quantile([0.25, 0.5, 0.75])"
   ]
  },
  {
   "cell_type": "code",
   "execution_count": 30,
   "metadata": {},
   "outputs": [
    {
     "data": {
      "text/plain": [
       "0     770\n",
       "1    2111\n",
       "2    2358\n",
       "3    3487\n",
       "4    1922\n",
       "Name: transactions, dtype: int64"
      ]
     },
     "execution_count": 30,
     "metadata": {},
     "output_type": "execute_result"
    }
   ],
   "source": [
    "transactions = pd.read_csv(r\"C:\\Users\\amorg\\Documents\\Maven NumPy and Pandas\\maven_python_course\\pandas_series\\transactions.csv\")\n",
    "transactions_series = pd.Series(transactions[\"transactions\"])\n",
    "transactions_series.iloc[:5]"
   ]
  },
  {
   "cell_type": "code",
   "execution_count": 41,
   "metadata": {},
   "outputs": [
    {
     "name": "stdout",
     "output_type": "stream",
     "text": [
      "Transaction Count: 83488\n",
      "Sum of all transactions: 141478945\n",
      "Mean of all transactions: 1694.6021583940208\n",
      "Quantiles of transactions: 0.5    2111\n",
      "Name: transactions, dtype: int64\n"
     ]
    }
   ],
   "source": [
    "print(f\"Transaction Count: {transactions_series.count()}\")\n",
    "print(f\"Sum of all transactions: {transactions_series.sum()}\")\n",
    "print(f\"Mean of all transactions: {transactions_series.mean()}\")\n",
    "print(f\"\"\"Quantiles of transactions: {transactions_series.iloc[:5].quantile([.5], interpolation=\"nearest\")}\"\"\")"
   ]
  },
  {
   "cell_type": "markdown",
   "metadata": {},
   "source": [
    "# Categorical Series Aggregation\n",
    "* You can use these methods to aggregate and analyze catagorical Series\n",
    "* These methods tend to work best on text based values but can be used on numeric series also"
   ]
  },
  {
   "cell_type": "code",
   "execution_count": 46,
   "metadata": {},
   "outputs": [
    {
     "data": {
      "text/html": [
       "<div>\n",
       "<style scoped>\n",
       "    .dataframe tbody tr th:only-of-type {\n",
       "        vertical-align: middle;\n",
       "    }\n",
       "\n",
       "    .dataframe tbody tr th {\n",
       "        vertical-align: top;\n",
       "    }\n",
       "\n",
       "    .dataframe thead th {\n",
       "        text-align: right;\n",
       "    }\n",
       "</style>\n",
       "<table border=\"1\" class=\"dataframe\">\n",
       "  <thead>\n",
       "    <tr style=\"text-align: right;\">\n",
       "      <th></th>\n",
       "      <th>Methods</th>\n",
       "      <th>Description</th>\n",
       "    </tr>\n",
       "  </thead>\n",
       "  <tbody>\n",
       "    <tr>\n",
       "      <th>0</th>\n",
       "      <td>.unique()</td>\n",
       "      <td>Returns an array of unique items in a Series</td>\n",
       "    </tr>\n",
       "    <tr>\n",
       "      <th>1</th>\n",
       "      <td>.nunique()</td>\n",
       "      <td>Returns the number of unique items in a Series</td>\n",
       "    </tr>\n",
       "    <tr>\n",
       "      <th>2</th>\n",
       "      <td>.value_counts()</td>\n",
       "      <td>Returns a Series of unique items and their frequency</td>\n",
       "    </tr>\n",
       "  </tbody>\n",
       "</table>\n",
       "</div>"
      ],
      "text/plain": [
       "           Methods                                           Description\n",
       "0        .unique()          Returns an array of unique items in a Series\n",
       "1       .nunique()        Returns the number of unique items in a Series\n",
       "2  .value_counts()  Returns a Series of unique items and their frequency"
      ]
     },
     "execution_count": 46,
     "metadata": {},
     "output_type": "execute_result"
    }
   ],
   "source": [
    "catagorical_method = ['.unique()', '.nunique()', '.value_counts()']\n",
    "\n",
    "catagorical_descriptions = ['Returns an array of unique items in a Series', 'Returns the number of unique items in a Series', \n",
    "                            'Returns a Series of unique items and their frequency']\n",
    "\n",
    "pd.set_option('display.max_colwidth', None)\n",
    "categorical_series = pd.DataFrame({'Methods':catagorical_method, 'Description':catagorical_descriptions})\n",
    "categorical_series"
   ]
  },
  {
   "cell_type": "code",
   "execution_count": 48,
   "metadata": {},
   "outputs": [
    {
     "data": {
      "text/plain": [
       "coffee       0.0\n",
       "coffee       5.0\n",
       "tea        155.0\n",
       "coconut      NaN\n",
       "sugar      518.0\n",
       "Name: Sales, dtype: float64"
      ]
     },
     "execution_count": 48,
     "metadata": {},
     "output_type": "execute_result"
    }
   ],
   "source": [
    "sales_series # data being used here"
   ]
  },
  {
   "cell_type": "code",
   "execution_count": 66,
   "metadata": {},
   "outputs": [
    {
     "data": {
      "text/plain": [
       "0     coffee\n",
       "1     coffee\n",
       "2        tea\n",
       "3    coconut\n",
       "4      sugar\n",
       "dtype: object"
      ]
     },
     "execution_count": 66,
     "metadata": {},
     "output_type": "execute_result"
    }
   ],
   "source": [
    "sales_items = pd.Series(items)\n",
    "sales_items"
   ]
  },
  {
   "cell_type": "code",
   "execution_count": 67,
   "metadata": {},
   "outputs": [
    {
     "data": {
      "text/plain": [
       "coffee     2\n",
       "tea        1\n",
       "coconut    1\n",
       "sugar      1\n",
       "Name: count, dtype: int64"
      ]
     },
     "execution_count": 67,
     "metadata": {},
     "output_type": "execute_result"
    }
   ],
   "source": [
    "sales_items.value_counts()"
   ]
  },
  {
   "cell_type": "code",
   "execution_count": 68,
   "metadata": {},
   "outputs": [
    {
     "data": {
      "text/plain": [
       "coffee     0.4\n",
       "tea        0.2\n",
       "coconut    0.2\n",
       "sugar      0.2\n",
       "Name: proportion, dtype: float64"
      ]
     },
     "execution_count": 68,
     "metadata": {},
     "output_type": "execute_result"
    }
   ],
   "source": [
    "sales_items.value_counts(normalize=True)"
   ]
  },
  {
   "cell_type": "code",
   "execution_count": 69,
   "metadata": {},
   "outputs": [
    {
     "data": {
      "text/plain": [
       "array(['coffee', 'tea', 'coconut', 'sugar'], dtype=object)"
      ]
     },
     "execution_count": 69,
     "metadata": {},
     "output_type": "execute_result"
    }
   ],
   "source": [
    "sales_items.unique()"
   ]
  },
  {
   "cell_type": "code",
   "execution_count": 70,
   "metadata": {},
   "outputs": [
    {
     "data": {
      "text/plain": [
       "4"
      ]
     },
     "execution_count": 70,
     "metadata": {},
     "output_type": "execute_result"
    }
   ],
   "source": [
    "sales_items.nunique()"
   ]
  },
  {
   "cell_type": "markdown",
   "metadata": {},
   "source": [
    "### Examples"
   ]
  },
  {
   "cell_type": "code",
   "execution_count": 75,
   "metadata": {},
   "outputs": [
    {
     "data": {
      "text/plain": [
       "0    day 0\n",
       "1    day 0\n",
       "2    day 2\n",
       "3    day 2\n",
       "4    day 4\n",
       "dtype: object"
      ]
     },
     "execution_count": 75,
     "metadata": {},
     "output_type": "execute_result"
    }
   ],
   "source": [
    "string_series = pd.Series(['day 0', 'day 0', 'day 2', 'day 2', 'day 4'])\n",
    "string_series"
   ]
  },
  {
   "cell_type": "code",
   "execution_count": 76,
   "metadata": {},
   "outputs": [
    {
     "data": {
      "text/plain": [
       "3"
      ]
     },
     "execution_count": 76,
     "metadata": {},
     "output_type": "execute_result"
    }
   ],
   "source": [
    "string_series.nunique()"
   ]
  },
  {
   "cell_type": "code",
   "execution_count": 77,
   "metadata": {},
   "outputs": [
    {
     "data": {
      "text/plain": [
       "array(['day 0', 'day 2', 'day 4'], dtype=object)"
      ]
     },
     "execution_count": 77,
     "metadata": {},
     "output_type": "execute_result"
    }
   ],
   "source": [
    "string_series.unique()"
   ]
  },
  {
   "cell_type": "code",
   "execution_count": 80,
   "metadata": {},
   "outputs": [
    {
     "data": {
      "text/plain": [
       "day 0    0.4\n",
       "day 2    0.4\n",
       "day 4    0.2\n",
       "Name: proportion, dtype: float64"
      ]
     },
     "execution_count": 80,
     "metadata": {},
     "output_type": "execute_result"
    }
   ],
   "source": [
    "string_series.value_counts(normalize=True) # including this argument returns each value as percentage of how often it occurs in a Series"
   ]
  },
  {
   "cell_type": "code",
   "execution_count": null,
   "metadata": {},
   "outputs": [],
   "source": [
    "string_series.value_counts()"
   ]
  }
 ],
 "metadata": {
  "kernelspec": {
   "display_name": "base",
   "language": "python",
   "name": "python3"
  },
  "language_info": {
   "codemirror_mode": {
    "name": "ipython",
    "version": 3
   },
   "file_extension": ".py",
   "mimetype": "text/x-python",
   "name": "python",
   "nbconvert_exporter": "python",
   "pygments_lexer": "ipython3",
   "version": "3.11.0"
  }
 },
 "nbformat": 4,
 "nbformat_minor": 2
}
