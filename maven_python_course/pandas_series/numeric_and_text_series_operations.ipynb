{
 "cells": [
  {
   "cell_type": "markdown",
   "metadata": {},
   "source": [
    "## Arithmetic Operators and Methods"
   ]
  },
  {
   "cell_type": "markdown",
   "metadata": {},
   "source": [
    "* You can use these operators and methods to perform numeric operations on Series"
   ]
  },
  {
   "cell_type": "code",
   "execution_count": 1,
   "metadata": {},
   "outputs": [],
   "source": [
    "import numpy as np\n",
    "import pandas as pd"
   ]
  },
  {
   "cell_type": "code",
   "execution_count": 2,
   "metadata": {},
   "outputs": [
    {
     "data": {
      "text/html": [
       "<div>\n",
       "<style scoped>\n",
       "    .dataframe tbody tr th:only-of-type {\n",
       "        vertical-align: middle;\n",
       "    }\n",
       "\n",
       "    .dataframe tbody tr th {\n",
       "        vertical-align: top;\n",
       "    }\n",
       "\n",
       "    .dataframe thead th {\n",
       "        text-align: right;\n",
       "    }\n",
       "</style>\n",
       "<table border=\"1\" class=\"dataframe\">\n",
       "  <thead>\n",
       "    <tr style=\"text-align: right;\">\n",
       "      <th></th>\n",
       "      <th>Operation</th>\n",
       "      <th>Python Operator</th>\n",
       "      <th>Pandas Method</th>\n",
       "    </tr>\n",
       "  </thead>\n",
       "  <tbody>\n",
       "    <tr>\n",
       "      <th>0</th>\n",
       "      <td>Addition</td>\n",
       "      <td>+</td>\n",
       "      <td>.add</td>\n",
       "    </tr>\n",
       "    <tr>\n",
       "      <th>1</th>\n",
       "      <td>Subtraction</td>\n",
       "      <td>-</td>\n",
       "      <td>.sub(), .subtract()</td>\n",
       "    </tr>\n",
       "    <tr>\n",
       "      <th>2</th>\n",
       "      <td>Mutliplication</td>\n",
       "      <td>*</td>\n",
       "      <td>.mul(), .multiply()</td>\n",
       "    </tr>\n",
       "    <tr>\n",
       "      <th>3</th>\n",
       "      <td>Division</td>\n",
       "      <td>/</td>\n",
       "      <td>.div(), .truediv(), .divide()</td>\n",
       "    </tr>\n",
       "    <tr>\n",
       "      <th>4</th>\n",
       "      <td>Floor Division</td>\n",
       "      <td>//</td>\n",
       "      <td>.floordiv()</td>\n",
       "    </tr>\n",
       "    <tr>\n",
       "      <th>5</th>\n",
       "      <td>Modulo</td>\n",
       "      <td>%</td>\n",
       "      <td>.mod()</td>\n",
       "    </tr>\n",
       "    <tr>\n",
       "      <th>6</th>\n",
       "      <td>Exponentiation</td>\n",
       "      <td>**</td>\n",
       "      <td>.pow()</td>\n",
       "    </tr>\n",
       "  </tbody>\n",
       "</table>\n",
       "</div>"
      ],
      "text/plain": [
       "        Operation Python Operator                  Pandas Method\n",
       "0        Addition               +                           .add\n",
       "1     Subtraction               -            .sub(), .subtract()\n",
       "2  Mutliplication               *            .mul(), .multiply()\n",
       "3        Division               /  .div(), .truediv(), .divide()\n",
       "4  Floor Division              //                    .floordiv()\n",
       "5          Modulo               %                         .mod()\n",
       "6  Exponentiation              **                         .pow()"
      ]
     },
     "execution_count": 2,
     "metadata": {},
     "output_type": "execute_result"
    }
   ],
   "source": [
    "operation = ['Addition', 'Subtraction', 'Mutliplication', 'Division', 'Floor Division', 'Modulo', 'Exponentiation']\n",
    "python_op = ['+', '-', '*', '/', '//', '%', '**']\n",
    "pandas_method = ['.add', '.sub(), .subtract()', '.mul(), .multiply()', '.div(), .truediv(), .divide()', '.floordiv()', '.mod()', '.pow()']\n",
    "\n",
    "df = pd.DataFrame({'Operation':operation, 'Python Operator':python_op, 'Pandas Method':pandas_method})\n",
    "df"
   ]
  },
  {
   "cell_type": "code",
   "execution_count": 3,
   "metadata": {},
   "outputs": [
    {
     "data": {
      "text/plain": [
       "0      0\n",
       "1      5\n",
       "2    155\n",
       "3      0\n",
       "4    518\n",
       "Name: Sales, dtype: int64"
      ]
     },
     "execution_count": 3,
     "metadata": {},
     "output_type": "execute_result"
    }
   ],
   "source": [
    "sales = [0, 5, 155, 0, 518]\n",
    "monday_sales = pd.Series(sales, name=\"Sales\")\n",
    "monday_sales"
   ]
  },
  {
   "cell_type": "code",
   "execution_count": 4,
   "metadata": {},
   "outputs": [
    {
     "data": {
      "text/plain": [
       "0      2\n",
       "1      7\n",
       "2    157\n",
       "3      2\n",
       "4    520\n",
       "Name: Sales, dtype: int64"
      ]
     },
     "execution_count": 4,
     "metadata": {},
     "output_type": "execute_result"
    }
   ],
   "source": [
    "monday_sales + 2 # Generally python operators are better to use in pandas"
   ]
  },
  {
   "cell_type": "code",
   "execution_count": 5,
   "metadata": {},
   "outputs": [
    {
     "data": {
      "text/plain": [
       "0      $0.0\n",
       "1      $5.0\n",
       "2    $155.0\n",
       "3      $0.0\n",
       "4    $518.0\n",
       "Name: Sales, dtype: string"
      ]
     },
     "execution_count": 5,
     "metadata": {},
     "output_type": "execute_result"
    }
   ],
   "source": [
    "\"$\" + monday_sales.astype(\"float\").astype(\"string\") # we're casting the variable 'monday_sales' as a float to add the decimal and cents\n",
    "# then again to a string to concat with string addition witht the dollar sign $"
   ]
  },
  {
   "cell_type": "code",
   "execution_count": 14,
   "metadata": {},
   "outputs": [
    {
     "data": {
      "text/plain": [
       "Day 0    1\n",
       "Day 1    2\n",
       "Day 2    3\n",
       "Day 3    4\n",
       "Day 4    5\n",
       "dtype: int64"
      ]
     },
     "execution_count": 14,
     "metadata": {},
     "output_type": "execute_result"
    }
   ],
   "source": [
    "my_series = pd.Series(\n",
    "    [1, 2, 3, 4, 5], index=[\"Day 0\", \"Day 1\", \"Day 2\", \"Day 3\", \"Day 4\"])\n",
    "\n",
    "my_series"
   ]
  },
  {
   "cell_type": "code",
   "execution_count": 15,
   "metadata": {},
   "outputs": [
    {
     "data": {
      "text/plain": [
       "Day 0    2\n",
       "Day 1    3\n",
       "Day 2    4\n",
       "Day 3    5\n",
       "Day 4    6\n",
       "dtype: int64"
      ]
     },
     "execution_count": 15,
     "metadata": {},
     "output_type": "execute_result"
    }
   ],
   "source": [
    "my_series + 1"
   ]
  },
  {
   "cell_type": "code",
   "execution_count": 21,
   "metadata": {},
   "outputs": [
    {
     "data": {
      "text/plain": [
       "Day 0    1.0\n",
       "Day 1    NaN\n",
       "Day 2    3.0\n",
       "Day 3    NaN\n",
       "Day 4    5.0\n",
       "dtype: float64"
      ]
     },
     "execution_count": 21,
     "metadata": {},
     "output_type": "execute_result"
    }
   ],
   "source": [
    "my_series = pd.Series(\n",
    "    [1, np.NaN, 3, np.NaN, 5], index=[\"Day 0\", \"Day 1\", \"Day 2\", \"Day 3\", \"Day 4\"]) # if out series has any NaN values we might find use using a pandas method\n",
    "\n",
    "my_series"
   ]
  },
  {
   "cell_type": "code",
   "execution_count": 27,
   "metadata": {},
   "outputs": [
    {
     "data": {
      "text/plain": [
       "Day 0    2.0\n",
       "Day 1    1.0\n",
       "Day 2    4.0\n",
       "Day 3    1.0\n",
       "Day 4    6.0\n",
       "dtype: float64"
      ]
     },
     "execution_count": 27,
     "metadata": {},
     "output_type": "execute_result"
    }
   ],
   "source": [
    "my_series.add(1, fill_value=0) # fill_value argument fills in missing values but only with the value given in this case we're replacing NaN with 0.\n",
    "# So the result will be 0 + 1 for both rows that are NaN"
   ]
  },
  {
   "cell_type": "code",
   "execution_count": 36,
   "metadata": {},
   "outputs": [],
   "source": [
    "my_series2 = my_series.add(1, fill_value=0).astype('int') # if we cast a series as an int it will become more compatable with numeric operators"
   ]
  },
  {
   "cell_type": "code",
   "execution_count": 35,
   "metadata": {},
   "outputs": [
    {
     "data": {
      "text/plain": [
       "Day 0    1.0\n",
       "Day 1    0.5\n",
       "Day 2    2.0\n",
       "Day 3    0.5\n",
       "Day 4    3.0\n",
       "dtype: float64"
      ]
     },
     "execution_count": 35,
     "metadata": {},
     "output_type": "execute_result"
    }
   ],
   "source": [
    "my_series2 / 2 # notice when we perform division the data type automaticly changes to a float. Just take note of the dtype"
   ]
  },
  {
   "cell_type": "code",
   "execution_count": 33,
   "metadata": {},
   "outputs": [
    {
     "data": {
      "text/plain": [
       "Day 0     3.0\n",
       "Day 1     NaN\n",
       "Day 2     7.0\n",
       "Day 3     NaN\n",
       "Day 4    11.0\n",
       "dtype: float64"
      ]
     },
     "execution_count": 33,
     "metadata": {},
     "output_type": "execute_result"
    }
   ],
   "source": [
    "my_series + my_series2"
   ]
  },
  {
   "cell_type": "markdown",
   "metadata": {},
   "source": [
    "## String Methods"
   ]
  },
  {
   "cell_type": "markdown",
   "metadata": {},
   "source": [
    "* The Pandas str accessor lets you access many string methods\n",
    "* These methods all return a Series (split returns multiple series)"
   ]
  },
  {
   "cell_type": "code",
   "execution_count": 7,
   "metadata": {},
   "outputs": [
    {
     "data": {
      "text/html": [
       "<style type=\"text/css\">\n",
       "#T_b35b1_row0_col0, #T_b35b1_row0_col1, #T_b35b1_row1_col0, #T_b35b1_row1_col1, #T_b35b1_row2_col0, #T_b35b1_row2_col1, #T_b35b1_row3_col0, #T_b35b1_row3_col1, #T_b35b1_row4_col0, #T_b35b1_row4_col1, #T_b35b1_row5_col0, #T_b35b1_row5_col1, #T_b35b1_row6_col0, #T_b35b1_row6_col1, #T_b35b1_row7_col0, #T_b35b1_row7_col1, #T_b35b1_row8_col0, #T_b35b1_row8_col1 {\n",
       "  text-align: left;\n",
       "}\n",
       "</style>\n",
       "<table id=\"T_b35b1\">\n",
       "  <thead>\n",
       "    <tr>\n",
       "      <th class=\"blank level0\" >&nbsp;</th>\n",
       "      <th id=\"T_b35b1_level0_col0\" class=\"col_heading level0 col0\" >String Method</th>\n",
       "      <th id=\"T_b35b1_level0_col1\" class=\"col_heading level0 col1\" >Description</th>\n",
       "    </tr>\n",
       "  </thead>\n",
       "  <tbody>\n",
       "    <tr>\n",
       "      <th id=\"T_b35b1_level0_row0\" class=\"row_heading level0 row0\" >0</th>\n",
       "      <td id=\"T_b35b1_row0_col0\" class=\"data row0 col0\" >.strip(), .lstrip(), .rstrip()</td>\n",
       "      <td id=\"T_b35b1_row0_col1\" class=\"data row0 col1\" >Removes all leading and/ or trailing characters(spaces by default)</td>\n",
       "    </tr>\n",
       "    <tr>\n",
       "      <th id=\"T_b35b1_level0_row1\" class=\"row_heading level0 row1\" >1</th>\n",
       "      <td id=\"T_b35b1_row1_col0\" class=\"data row1 col0\" >.upper(), .lower()</td>\n",
       "      <td id=\"T_b35b1_row1_col1\" class=\"data row1 col1\" >Converts all characaters to upper or lower case</td>\n",
       "    </tr>\n",
       "    <tr>\n",
       "      <th id=\"T_b35b1_level0_row2\" class=\"row_heading level0 row2\" >2</th>\n",
       "      <td id=\"T_b35b1_row2_col0\" class=\"data row2 col0\" >.slice(star:stop:step)</td>\n",
       "      <td id=\"T_b35b1_row2_col1\" class=\"data row2 col1\" >Applies a sclice to the stings in a Series</td>\n",
       "    </tr>\n",
       "    <tr>\n",
       "      <th id=\"T_b35b1_level0_row3\" class=\"row_heading level0 row3\" >3</th>\n",
       "      <td id=\"T_b35b1_row3_col0\" class=\"data row3 col0\" >.count(\"string\")</td>\n",
       "      <td id=\"T_b35b1_row3_col1\" class=\"data row3 col1\" >Counts all instances of a given string</td>\n",
       "    </tr>\n",
       "    <tr>\n",
       "      <th id=\"T_b35b1_level0_row4\" class=\"row_heading level0 row4\" >4</th>\n",
       "      <td id=\"T_b35b1_row4_col0\" class=\"data row4 col0\" >.contains(\"string\")</td>\n",
       "      <td id=\"T_b35b1_row4_col1\" class=\"data row4 col1\" >Returns True if a given string is found; False if not</td>\n",
       "    </tr>\n",
       "    <tr>\n",
       "      <th id=\"T_b35b1_level0_row5\" class=\"row_heading level0 row5\" >5</th>\n",
       "      <td id=\"T_b35b1_row5_col0\" class=\"data row5 col0\" >.replace(\"a\", \"b\")</td>\n",
       "      <td id=\"T_b35b1_row5_col1\" class=\"data row5 col1\" >Replaces instances of string with \"a\" with string \"b\" </td>\n",
       "    </tr>\n",
       "    <tr>\n",
       "      <th id=\"T_b35b1_level0_row6\" class=\"row_heading level0 row6\" >6</th>\n",
       "      <td id=\"T_b35b1_row6_col0\" class=\"data row6 col0\" >.split(\"delimiter\", expand=True)</td>\n",
       "      <td id=\"T_b35b1_row6_col1\" class=\"data row6 col1\" >Splits strings based on a given delimiter string, and returns a DataFrame with a Series for each split</td>\n",
       "    </tr>\n",
       "    <tr>\n",
       "      <th id=\"T_b35b1_level0_row7\" class=\"row_heading level0 row7\" >7</th>\n",
       "      <td id=\"T_b35b1_row7_col0\" class=\"data row7 col0\" >.len()</td>\n",
       "      <td id=\"T_b35b1_row7_col1\" class=\"data row7 col1\" >Returns the length of each string in a Series</td>\n",
       "    </tr>\n",
       "    <tr>\n",
       "      <th id=\"T_b35b1_level0_row8\" class=\"row_heading level0 row8\" >8</th>\n",
       "      <td id=\"T_b35b1_row8_col0\" class=\"data row8 col0\" >.startswith(\"string\"), .endswith(\"string\")</td>\n",
       "      <td id=\"T_b35b1_row8_col1\" class=\"data row8 col1\" >Returns True if a string starts or ends with given string; False if not</td>\n",
       "    </tr>\n",
       "  </tbody>\n",
       "</table>\n"
      ],
      "text/plain": [
       "<pandas.io.formats.style.Styler at 0x23179bf55d0>"
      ]
     },
     "execution_count": 7,
     "metadata": {},
     "output_type": "execute_result"
    }
   ],
   "source": [
    "string_method = ['.strip(), .lstrip(), .rstrip()', '.upper(), .lower()', '.slice(star:stop:step)', '.count(\"string\")', '.contains(\"string\")',\n",
    "                  '.replace(\"a\", \"b\")', '.split(\"delimiter\", expand=True)', '.len()', '.startswith(\"string\"), .endswith(\"string\")']\n",
    "\n",
    "description = [\"Removes all leading and/ or trailing characters(spaces by default)\", \"Converts all characaters to upper or lower case\", \n",
    "               \"Applies a sclice to the stings in a Series\", \"Counts all instances of a given string\", \"Returns True if a given string is found; False if not\",\n",
    "               \"\"\"Replaces instances of string with \"a\" with string \"b\" \"\"\", \"Splits strings based on a given delimiter string, and returns a DataFrame with a Series for each split\",\n",
    "                \"Returns the length of each string in a Series\", \"Returns True if a string starts or ends with given string; False if not\"]\n",
    "\n",
    "df2 = pd.DataFrame({'String Method': string_method, 'Description':description})\n",
    "pd.set_option('display.max_colwidth', None)\n",
    "styled_df = df2.style.set_properties(**{'text-align': 'left'})\n",
    "styled_df"
   ]
  },
  {
   "cell_type": "code",
   "execution_count": 28,
   "metadata": {},
   "outputs": [
    {
     "data": {
      "text/plain": [
       "0    Day 0\n",
       "1    Day 1\n",
       "2    Day 2\n",
       "3    Day 3\n",
       "4    Day 4\n",
       "dtype: object"
      ]
     },
     "execution_count": 28,
     "metadata": {},
     "output_type": "execute_result"
    }
   ],
   "source": [
    "string_series = pd.Series([\"Day 0\", \"Day 1\", \"Day 2\", \"Day 3\", \"Day 4\"])\n",
    "string_series"
   ]
  },
  {
   "cell_type": "code",
   "execution_count": 11,
   "metadata": {},
   "outputs": [
    {
     "data": {
      "text/plain": [
       "0    False\n",
       "1     True\n",
       "2    False\n",
       "3    False\n",
       "4    False\n",
       "dtype: bool"
      ]
     },
     "execution_count": 11,
     "metadata": {},
     "output_type": "execute_result"
    }
   ],
   "source": [
    "string_series.str.contains(\"Day 1\") # acts like a filter. Note the .str accessor to use string methods"
   ]
  },
  {
   "cell_type": "code",
   "execution_count": 14,
   "metadata": {},
   "outputs": [
    {
     "data": {
      "text/plain": [
       "0    False\n",
       "1    False\n",
       "2    False\n",
       "3    False\n",
       "4    False\n",
       "dtype: bool"
      ]
     },
     "execution_count": 14,
     "metadata": {},
     "output_type": "execute_result"
    }
   ],
   "source": [
    "string_series.str.upper().str.contains('day 1') # We can chain methods together"
   ]
  },
  {
   "cell_type": "code",
   "execution_count": 18,
   "metadata": {},
   "outputs": [
    {
     "data": {
      "text/plain": [
       "0    0\n",
       "1    1\n",
       "2    2\n",
       "3    3\n",
       "4    4\n",
       "dtype: int32"
      ]
     },
     "execution_count": 18,
     "metadata": {},
     "output_type": "execute_result"
    }
   ],
   "source": [
    "string_series.str.strip('Day').astype('int') # change datatypes"
   ]
  },
  {
   "cell_type": "code",
   "execution_count": 22,
   "metadata": {},
   "outputs": [
    {
     "data": {
      "text/plain": [
       "0    0\n",
       "1    1\n",
       "2    2\n",
       "3    3\n",
       "4    4\n",
       "dtype: int32"
      ]
     },
     "execution_count": 22,
     "metadata": {},
     "output_type": "execute_result"
    }
   ],
   "source": [
    "string_series.str.slice(-1).astype('int') # we can slice also"
   ]
  },
  {
   "cell_type": "code",
   "execution_count": 26,
   "metadata": {},
   "outputs": [
    {
     "data": {
      "text/plain": [
       "0    0\n",
       "1    1\n",
       "2    2\n",
       "3    3\n",
       "4    4\n",
       "dtype: int32"
      ]
     },
     "execution_count": 26,
     "metadata": {},
     "output_type": "execute_result"
    }
   ],
   "source": [
    "string_series.str[-1].astype('int') # we can also slice without the method"
   ]
  },
  {
   "cell_type": "code",
   "execution_count": 27,
   "metadata": {},
   "outputs": [
    {
     "data": {
      "text/plain": [
       "0    ay\n",
       "1    ay\n",
       "2    ay\n",
       "3    ay\n",
       "4    ay\n",
       "dtype: object"
      ]
     },
     "execution_count": 27,
     "metadata": {},
     "output_type": "execute_result"
    }
   ],
   "source": [
    "string_series.str[1:3]"
   ]
  },
  {
   "cell_type": "code",
   "execution_count": 31,
   "metadata": {},
   "outputs": [
    {
     "data": {
      "text/plain": [
       "0    [Day, 0]\n",
       "1    [Day, 1]\n",
       "2    [Day, 2]\n",
       "3    [Day, 3]\n",
       "4    [Day, 4]\n",
       "dtype: object"
      ]
     },
     "execution_count": 31,
     "metadata": {},
     "output_type": "execute_result"
    }
   ],
   "source": [
    "string_series.str.split(' ') # if we split with only a space this will create a list stored as a series."
   ]
  },
  {
   "cell_type": "code",
   "execution_count": 32,
   "metadata": {},
   "outputs": [
    {
     "data": {
      "text/html": [
       "<div>\n",
       "<style scoped>\n",
       "    .dataframe tbody tr th:only-of-type {\n",
       "        vertical-align: middle;\n",
       "    }\n",
       "\n",
       "    .dataframe tbody tr th {\n",
       "        vertical-align: top;\n",
       "    }\n",
       "\n",
       "    .dataframe thead th {\n",
       "        text-align: right;\n",
       "    }\n",
       "</style>\n",
       "<table border=\"1\" class=\"dataframe\">\n",
       "  <thead>\n",
       "    <tr style=\"text-align: right;\">\n",
       "      <th></th>\n",
       "      <th>0</th>\n",
       "      <th>1</th>\n",
       "    </tr>\n",
       "  </thead>\n",
       "  <tbody>\n",
       "    <tr>\n",
       "      <th>0</th>\n",
       "      <td>Day</td>\n",
       "      <td>0</td>\n",
       "    </tr>\n",
       "    <tr>\n",
       "      <th>1</th>\n",
       "      <td>Day</td>\n",
       "      <td>1</td>\n",
       "    </tr>\n",
       "    <tr>\n",
       "      <th>2</th>\n",
       "      <td>Day</td>\n",
       "      <td>2</td>\n",
       "    </tr>\n",
       "    <tr>\n",
       "      <th>3</th>\n",
       "      <td>Day</td>\n",
       "      <td>3</td>\n",
       "    </tr>\n",
       "    <tr>\n",
       "      <th>4</th>\n",
       "      <td>Day</td>\n",
       "      <td>4</td>\n",
       "    </tr>\n",
       "  </tbody>\n",
       "</table>\n",
       "</div>"
      ],
      "text/plain": [
       "     0  1\n",
       "0  Day  0\n",
       "1  Day  1\n",
       "2  Day  2\n",
       "3  Day  3\n",
       "4  Day  4"
      ]
     },
     "execution_count": 32,
     "metadata": {},
     "output_type": "execute_result"
    }
   ],
   "source": [
    "string_series.str.split(' ', expand=True) # But if we ad the expand=True argument we will expand each elemnt into their own column"
   ]
  },
  {
   "cell_type": "code",
   "execution_count": null,
   "metadata": {},
   "outputs": [],
   "source": []
  }
 ],
 "metadata": {
  "kernelspec": {
   "display_name": "base",
   "language": "python",
   "name": "python3"
  },
  "language_info": {
   "codemirror_mode": {
    "name": "ipython",
    "version": 3
   },
   "file_extension": ".py",
   "mimetype": "text/x-python",
   "name": "python",
   "nbconvert_exporter": "python",
   "pygments_lexer": "ipython3",
   "version": "3.11.0"
  }
 },
 "nbformat": 4,
 "nbformat_minor": 2
}
