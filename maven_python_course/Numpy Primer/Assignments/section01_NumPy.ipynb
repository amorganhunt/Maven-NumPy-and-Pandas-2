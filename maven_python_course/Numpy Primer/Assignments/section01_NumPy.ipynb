{
 "cells": [
  {
   "cell_type": "markdown",
   "id": "d0d4a2ef",
   "metadata": {},
   "source": [
    "### Package Imports"
   ]
  },
  {
   "cell_type": "code",
   "execution_count": 1,
   "id": "dbd96293",
   "metadata": {},
   "outputs": [],
   "source": [
    "import numpy as np\n",
    "from numpy.random import default_rng"
   ]
  },
  {
   "cell_type": "markdown",
   "id": "3a5e9bd3",
   "metadata": {},
   "source": [
    "# Assignment 1: Array Basics\n",
    "\n",
    "Hi there,\n",
    "\n",
    "Can you import Numpy and convert the following list comprehension (I just learned about comprehensions in an awesome course by Maven) into an array?\n",
    "\n",
    "Once you've done that report the following about the array:\n",
    "* The number of dimensions \n",
    "* The shape\n",
    "* The number of elements in the array\n",
    "* The type of data contained inside"
   ]
  },
  {
   "cell_type": "code",
   "execution_count": 2,
   "id": "6d3f8d99",
   "metadata": {},
   "outputs": [],
   "source": [
    "my_list = [x * 10 for x in range(1, 11)]"
   ]
  },
  {
   "cell_type": "code",
   "execution_count": 3,
   "id": "56aecadf-af4f-45f5-bd4a-c3dc6e170b04",
   "metadata": {},
   "outputs": [
    {
     "data": {
      "text/plain": [
       "[10, 20, 30, 40, 50, 60, 70, 80, 90, 100]"
      ]
     },
     "execution_count": 3,
     "metadata": {},
     "output_type": "execute_result"
    }
   ],
   "source": [
    "my_list"
   ]
  },
  {
   "cell_type": "code",
   "execution_count": 4,
   "id": "ac0d2c7b",
   "metadata": {},
   "outputs": [],
   "source": [
    "my_array = np.array(my_list)"
   ]
  },
  {
   "cell_type": "code",
   "execution_count": 5,
   "id": "49d55877",
   "metadata": {},
   "outputs": [
    {
     "data": {
      "text/plain": [
       "numpy.ndarray"
      ]
     },
     "execution_count": 5,
     "metadata": {},
     "output_type": "execute_result"
    }
   ],
   "source": [
    "type(my_array)"
   ]
  },
  {
   "cell_type": "code",
   "execution_count": 6,
   "id": "7b50a227",
   "metadata": {},
   "outputs": [
    {
     "name": "stdout",
     "output_type": "stream",
     "text": [
      "ndim: 1\n",
      "shape: (10,)\n",
      "size: 10\n",
      "dtype: int32\n"
     ]
    }
   ],
   "source": [
    "print(f\"ndim: {my_array.ndim}\")\n",
    "print(f\"shape: {my_array.shape}\")\n",
    "print(f\"size: {my_array.size}\")\n",
    "print(f\"dtype: {my_array.dtype}\")"
   ]
  },
  {
   "cell_type": "markdown",
   "id": "8ff92bb7",
   "metadata": {},
   "source": [
    "# Assignment 2: Array Creation\n",
    "\n",
    "Thanks for your help with the first piece - I'm starting to understand some of the key differences between base Python data types and NumPy arrays. \n",
    "\n",
    "Does NumPy have anything like the range() function from base Python?\n",
    "\n",
    "If so: \n",
    "* create the same array from assignment 1 using a NumPy function. \n",
    "* Make it 5 rows and 2 columns. \n",
    "* It's ok if the datatype is float or int."
   ]
  },
  {
   "cell_type": "code",
   "execution_count": 7,
   "id": "81839e0f",
   "metadata": {},
   "outputs": [
    {
     "data": {
      "text/plain": [
       "array([[ 10,  20],\n",
       "       [ 30,  40],\n",
       "       [ 50,  60],\n",
       "       [ 70,  80],\n",
       "       [ 90, 100]])"
      ]
     },
     "execution_count": 7,
     "metadata": {},
     "output_type": "execute_result"
    }
   ],
   "source": [
    "my_array = np.array(my_list).reshape(5, 2)\n",
    "\n",
    "my_array"
   ]
  },
  {
   "cell_type": "code",
   "execution_count": 8,
   "id": "5085a202-baaa-44ed-af03-f3c34749cd22",
   "metadata": {},
   "outputs": [
    {
     "data": {
      "text/plain": [
       "numpy.ndarray"
      ]
     },
     "execution_count": 8,
     "metadata": {},
     "output_type": "execute_result"
    }
   ],
   "source": [
    "type(my_array)"
   ]
  },
  {
   "cell_type": "markdown",
   "id": "e0849aa4",
   "metadata": {},
   "source": [
    "Looking good so far! One of our data scientists asked about random number generation in NumPy.\n",
    "\n",
    "Can you create a 3x3 array of random numbers between 0 and 1? Use a random state of 2022.\n",
    "\n",
    "Store the random array in a variable called `random_array`."
   ]
  },
  {
   "cell_type": "code",
   "execution_count": 9,
   "id": "a2e29128",
   "metadata": {},
   "outputs": [
    {
     "data": {
      "text/plain": [
       "array([[0.24742606, 0.09299006, 0.61176337],\n",
       "       [0.06066207, 0.66103343, 0.75515778],\n",
       "       [0.1108689 , 0.04305584, 0.41441747]])"
      ]
     },
     "execution_count": 9,
     "metadata": {},
     "output_type": "execute_result"
    }
   ],
   "source": [
    "rng = default_rng(2022)\n",
    "\n",
    "random_array = rng.random(9).reshape(3, 3)\n",
    "random_array"
   ]
  },
  {
   "cell_type": "markdown",
   "id": "6927e8b0",
   "metadata": {},
   "source": [
    "# Assignment 3: Accessing Array Data\n",
    "\n",
    "\n",
    "Slice and index the `random_array` we created in the previous exercise. Perform the following:\n",
    "\n",
    "* Grab the first two 'rows' of the array\n",
    "* Grab the entire first column\n",
    "* Finally, grab the second selement of the third row.\n",
    "\n",
    "Thanks!\n"
   ]
  },
  {
   "cell_type": "code",
   "execution_count": 10,
   "id": "62a4e208",
   "metadata": {},
   "outputs": [
    {
     "data": {
      "text/plain": [
       "array([[0.24742606, 0.09299006, 0.61176337],\n",
       "       [0.06066207, 0.66103343, 0.75515778],\n",
       "       [0.1108689 , 0.04305584, 0.41441747]])"
      ]
     },
     "execution_count": 10,
     "metadata": {},
     "output_type": "execute_result"
    }
   ],
   "source": [
    "random_array"
   ]
  },
  {
   "cell_type": "code",
   "execution_count": 11,
   "id": "8f9e9acf",
   "metadata": {
    "scrolled": true
   },
   "outputs": [
    {
     "data": {
      "text/plain": [
       "array([[0.24742606, 0.09299006, 0.61176337],\n",
       "       [0.06066207, 0.66103343, 0.75515778]])"
      ]
     },
     "execution_count": 11,
     "metadata": {},
     "output_type": "execute_result"
    }
   ],
   "source": [
    "random_array[0:2]"
   ]
  },
  {
   "cell_type": "code",
   "execution_count": 12,
   "id": "87fa83f7",
   "metadata": {},
   "outputs": [
    {
     "data": {
      "text/plain": [
       "array([0.24742606, 0.06066207, 0.1108689 ])"
      ]
     },
     "execution_count": 12,
     "metadata": {},
     "output_type": "execute_result"
    }
   ],
   "source": [
    "random_array[:, 0]"
   ]
  },
  {
   "cell_type": "code",
   "execution_count": 13,
   "id": "fe985696",
   "metadata": {},
   "outputs": [
    {
     "data": {
      "text/plain": [
       "0.04305584439252108"
      ]
     },
     "execution_count": 13,
     "metadata": {},
     "output_type": "execute_result"
    }
   ],
   "source": [
    "random_array[2, 1]"
   ]
  },
  {
   "cell_type": "markdown",
   "id": "6e9ae36a",
   "metadata": {},
   "source": [
    "# Assignment 4: Arithmetic Operations"
   ]
  },
  {
   "cell_type": "markdown",
   "id": "b7283da4",
   "metadata": {},
   "source": [
    "The creativity of our marketing team knows no bounds!\n",
    "\n",
    "They've asked us to come up with a simple algorithm to provide a random discount to our list of prices below. \n",
    "\n",
    "Before we do that, \n",
    "\n",
    "* Add a 5 dollar shipping fee to each price. Call this array `total`.\n",
    "\n",
    "Once we have that, we want to use the random_array created in assignment 2 and apply them to the 6 prices.\n",
    "\n",
    "* Grab the first 6 numbers from `random_array`, reshape it to one dimension. Call this `discount_pct`.\n",
    "* Subtract `discount_pct` FROM 1, store this in `pct_owed`.\n",
    "* Multiply `pct_owed` by `total` to get the final amount owed."
   ]
  },
  {
   "cell_type": "code",
   "execution_count": 14,
   "id": "f44773da",
   "metadata": {},
   "outputs": [],
   "source": [
    "prices = np.array([5.99, 6.99, 22.49, 99.99, 4.99, 49.99])\n"
   ]
  },
  {
   "cell_type": "code",
   "execution_count": 15,
   "id": "9171609a",
   "metadata": {},
   "outputs": [
    {
     "data": {
      "text/plain": [
       "array([ 10.99,  11.99,  27.49, 104.99,   9.99,  54.99])"
      ]
     },
     "execution_count": 15,
     "metadata": {},
     "output_type": "execute_result"
    }
   ],
   "source": [
    "total = prices + 5\n",
    "\n",
    "total"
   ]
  },
  {
   "cell_type": "code",
   "execution_count": 16,
   "id": "a06dbc29",
   "metadata": {},
   "outputs": [
    {
     "data": {
      "text/plain": [
       "array([[0.24742606, 0.09299006, 0.61176337],\n",
       "       [0.06066207, 0.66103343, 0.75515778],\n",
       "       [0.1108689 , 0.04305584, 0.41441747]])"
      ]
     },
     "execution_count": 16,
     "metadata": {},
     "output_type": "execute_result"
    }
   ],
   "source": [
    "random_array"
   ]
  },
  {
   "cell_type": "code",
   "execution_count": 17,
   "id": "da03368e",
   "metadata": {},
   "outputs": [
    {
     "data": {
      "text/plain": [
       "array([ 8.27, 10.88, 10.67, 98.62,  3.39, 13.46])"
      ]
     },
     "execution_count": 17,
     "metadata": {},
     "output_type": "execute_result"
    }
   ],
   "source": [
    "discount_pct = random_array[:2].reshape(6)\n",
    "\n",
    "pct_owed = 1 - discount_pct\n",
    "\n",
    "final_owed = (pct_owed * total).round(2)\n",
    "\n",
    "final_owed"
   ]
  },
  {
   "cell_type": "markdown",
   "id": "30400903",
   "metadata": {},
   "source": [
    "# Assignment 5: Filtering Arrays\n",
    "\n",
    "Filter the product array to only include those with prices greater than 25.\n",
    "\n",
    "Modify your logic to include cola, despite it not having a price greater than 25. \n",
    "Store the elements returned in an array called `fancy_feast_special`.\n",
    "\n",
    "Next, create a shipping cost array where the cost is 0 if price is greater than 20, and 5 if not. "
   ]
  },
  {
   "cell_type": "code",
   "execution_count": 18,
   "id": "c144c432",
   "metadata": {},
   "outputs": [
    {
     "data": {
      "text/plain": [
       "array(['salad', 'bread', 'mustard', 'rare tomato', 'cola',\n",
       "       'gourmet ice cream'], dtype='<U17')"
      ]
     },
     "execution_count": 18,
     "metadata": {},
     "output_type": "execute_result"
    }
   ],
   "source": [
    "products = np.array(\n",
    "    [\"salad\", \"bread\", \"mustard\", \"rare tomato\", \"cola\", \"gourmet ice cream\"]\n",
    ")\n",
    "\n",
    "products"
   ]
  },
  {
   "cell_type": "code",
   "execution_count": 19,
   "id": "bb4c3f22",
   "metadata": {},
   "outputs": [
    {
     "data": {
      "text/plain": [
       "array([ 5.99,  6.99, 22.49, 99.99,  4.99, 49.99])"
      ]
     },
     "execution_count": 19,
     "metadata": {},
     "output_type": "execute_result"
    }
   ],
   "source": [
    "prices"
   ]
  },
  {
   "cell_type": "code",
   "execution_count": 20,
   "id": "ba1b077b",
   "metadata": {},
   "outputs": [
    {
     "data": {
      "text/plain": [
       "array(['rare tomato', 'gourmet ice cream'], dtype='<U17')"
      ]
     },
     "execution_count": 20,
     "metadata": {},
     "output_type": "execute_result"
    }
   ],
   "source": [
    "products[prices > 25]"
   ]
  },
  {
   "cell_type": "code",
   "execution_count": 21,
   "id": "4002705c",
   "metadata": {},
   "outputs": [
    {
     "data": {
      "text/plain": [
       "array(['rare tomato', 'cola', 'gourmet ice cream'], dtype='<U17')"
      ]
     },
     "execution_count": 21,
     "metadata": {},
     "output_type": "execute_result"
    }
   ],
   "source": [
    "mask = (prices > 25 ) | (products == 'cola')\n",
    "\n",
    "fancy_feast_special = products[mask]\n",
    "\n",
    "fancy_feast_special"
   ]
  },
  {
   "cell_type": "code",
   "execution_count": 22,
   "id": "4a8368d4",
   "metadata": {},
   "outputs": [
    {
     "data": {
      "text/plain": [
       "array([5, 5, 0, 0, 5, 0])"
      ]
     },
     "execution_count": 22,
     "metadata": {},
     "output_type": "execute_result"
    }
   ],
   "source": [
    "shipping_cost = np.where(prices > 20, 0, 5)\n",
    "\n",
    "shipping_cost"
   ]
  },
  {
   "cell_type": "markdown",
   "id": "44ce04ed",
   "metadata": {},
   "source": [
    "# Assignment 6: Aggregating and Sorting Arrays\n",
    "\n",
    "First, grab the top 3 highest priced items in our list. \n",
    "\n",
    "Then, calculated the mean, min, max, and median of the top three prices.\n",
    "\n",
    "Finally, calculate the number of unique price tiers in our `price_tiers` array."
   ]
  },
  {
   "cell_type": "code",
   "execution_count": 23,
   "id": "f97f4598",
   "metadata": {},
   "outputs": [
    {
     "data": {
      "text/plain": [
       "array([ 5.99,  6.99, 22.49, 99.99,  4.99, 49.99])"
      ]
     },
     "execution_count": 23,
     "metadata": {},
     "output_type": "execute_result"
    }
   ],
   "source": [
    "prices = np.array([5.99, 6.99, 22.49, 99.99, 4.99, 49.99])\n",
    "\n",
    "prices"
   ]
  },
  {
   "cell_type": "code",
   "execution_count": 24,
   "id": "c462eeef",
   "metadata": {},
   "outputs": [
    {
     "data": {
      "text/plain": [
       "array([ 4.99,  5.99,  6.99, 22.49, 49.99, 99.99])"
      ]
     },
     "execution_count": 24,
     "metadata": {},
     "output_type": "execute_result"
    }
   ],
   "source": [
    "prices.sort()\n",
    "prices"
   ]
  },
  {
   "cell_type": "code",
   "execution_count": 25,
   "id": "4a0b5694",
   "metadata": {},
   "outputs": [
    {
     "data": {
      "text/plain": [
       "array([22.49, 49.99, 99.99])"
      ]
     },
     "execution_count": 25,
     "metadata": {},
     "output_type": "execute_result"
    }
   ],
   "source": [
    "top_prices = prices[-3::]\n",
    "top_prices"
   ]
  },
  {
   "cell_type": "code",
   "execution_count": 26,
   "id": "de696f1a",
   "metadata": {},
   "outputs": [
    {
     "name": "stdout",
     "output_type": "stream",
     "text": [
      "22.49\n",
      "99.99\n",
      "57.49\n",
      "49.99\n"
     ]
    }
   ],
   "source": [
    "print(top_prices.min())\n",
    "print(top_prices.max())\n",
    "print(top_prices.mean())\n",
    "print(np.median(top_prices))"
   ]
  },
  {
   "cell_type": "code",
   "execution_count": 27,
   "id": "b9087568",
   "metadata": {},
   "outputs": [],
   "source": [
    "price_tiers = np.array([\"budget\", \"budget\", \"mid-tier\", \"luxury\", \"mid-tier\", \"luxury\"])"
   ]
  },
  {
   "cell_type": "code",
   "execution_count": 28,
   "id": "6b6e2292",
   "metadata": {},
   "outputs": [
    {
     "data": {
      "text/plain": [
       "3"
      ]
     },
     "execution_count": 28,
     "metadata": {},
     "output_type": "execute_result"
    }
   ],
   "source": [
    "np.unique(price_tiers).size"
   ]
  },
  {
   "cell_type": "markdown",
   "id": "31b66238",
   "metadata": {},
   "source": [
    "# Assignment 7: Bringing it All Together\n",
    "\n",
    "Ok, final NumPy task - let's read in some data with the help of Pandas.\n",
    "\n",
    "Our data scientist provided the code to read in a csv as a Pandas dataframe, and has converted the two columns of interest to arrays.\n",
    "\n",
    "* Filter `sales_array` down to only sales where the product family was produce. \n",
    "\n",
    "* Then, randomly sample roughly half (random number < .5) of the produce sales and report the mean and median sales. Use a random seed of 2022.\n",
    "\n",
    "* Finally, create a new array that has the values 'above_both', 'above_median', and 'below_both' based on whether the sales were above the median and mean of the sample, just above the median of the sample, or below both the median and mean of the sample. "
   ]
  },
  {
   "cell_type": "code",
   "execution_count": 43,
   "id": "5b567c99",
   "metadata": {},
   "outputs": [],
   "source": [
    "import pandas as pd\n",
    "import numpy as np\n",
    "from numpy.random import default_rng\n",
    "\n",
    "retail_df = pd.read_csv(r\"C:\\Users\\amorg\\Documents\\Maven NumPy and Pandas\\Numpy Primer\\Assignments\\retail_2016_2017.csv\", skiprows=range(1, 11000), nrows=1000\n",
    ")\n",
    "\n",
    "family_array = np.array(retail_df[\"family\"])\n",
    "sales_array = np.array(retail_df[\"sales\"])"
   ]
  },
  {
   "cell_type": "code",
   "execution_count": 68,
   "id": "a0424a65",
   "metadata": {},
   "outputs": [
    {
     "data": {
      "text/plain": [
       "array([1662.394,  447.064, 2423.944,  962.866, 1236.404,  298.441,\n",
       "       1077.44 , 3404.531,  962.96 ,  279.505, 1852.786, 1089.319,\n",
       "        726.516, 7860.031,  446.038, 1155.385,  120.202,  862.092,\n",
       "        473.952,  254.263, 1272.755, 2775.771, 2030.762, 1657.432,\n",
       "       2339.906,  722.333, 1567.843, 2458.456,  673.885, 8834.15 ])"
      ]
     },
     "execution_count": 68,
     "metadata": {},
     "output_type": "execute_result"
    }
   ],
   "source": [
    "produce_array = sales_array[family_array == 'PRODUCE'] # Filter down to only \"PRODUCE\" sales\n",
    "produce_array"
   ]
  },
  {
   "cell_type": "code",
   "execution_count": 69,
   "id": "cc763815",
   "metadata": {},
   "outputs": [
    {
     "data": {
      "text/plain": [
       "30"
      ]
     },
     "execution_count": 69,
     "metadata": {},
     "output_type": "execute_result"
    }
   ],
   "source": [
    "produce_array.size # Check the size of the array"
   ]
  },
  {
   "cell_type": "code",
   "execution_count": 76,
   "id": "96eaf423",
   "metadata": {},
   "outputs": [
    {
     "data": {
      "text/plain": [
       "array([1662.394,  447.064,  962.866, 1077.44 , 3404.531,  962.96 ,\n",
       "       1089.319, 7860.031,  446.038, 1272.755, 2775.771, 2339.906,\n",
       "        722.333, 1567.843, 2458.456,  673.885, 8834.15 ])"
      ]
     },
     "execution_count": 76,
     "metadata": {},
     "output_type": "execute_result"
    }
   ],
   "source": [
    "rng = np.random.default_rng(2022)\n",
    "\n",
    "random_array = rng.random(30)\n",
    "\n",
    "sampled_array = produce_array[random_array < .5]\n",
    "sampled_array"
   ]
  },
  {
   "cell_type": "code",
   "execution_count": 77,
   "id": "e0186438",
   "metadata": {},
   "outputs": [
    {
     "name": "stdout",
     "output_type": "stream",
     "text": [
      "Mean: 2268.1\n",
      "Median: 1272.76\n"
     ]
    }
   ],
   "source": [
    "print(f\"Mean: {round(sampled_array.mean(), 2)}\")\n",
    "print(f\"Median: {round(np.median(sampled_array), 2)}\")"
   ]
  },
  {
   "cell_type": "markdown",
   "id": "bc249971",
   "metadata": {},
   "source": [
    "* Finally, create a new array that has the values 'above_both', 'above_median', and 'below_both' based on whether the sales were above the median and mean of the sample, just above the median of the sample, or below both the median and mean of the sample. "
   ]
  },
  {
   "cell_type": "code",
   "execution_count": 79,
   "id": "33c9a16a",
   "metadata": {},
   "outputs": [
    {
     "data": {
      "text/plain": [
       "array(['above_median', 'below_both', 'below_both', 'below_both',\n",
       "       'above_both', 'below_both', 'below_both', 'above_both',\n",
       "       'below_both', 'below_both', 'above_both', 'above_both',\n",
       "       'below_both', 'above_median', 'above_both', 'below_both',\n",
       "       'above_both'], dtype='<U12')"
      ]
     },
     "execution_count": 79,
     "metadata": {},
     "output_type": "execute_result"
    }
   ],
   "source": [
    "mean = 2268.1\n",
    "median = 1272.76\n",
    "\n",
    "np.where(\n",
    "    sampled_array < median, \n",
    "    \"below_both\",\n",
    "    np.where(sampled_array > mean, \"above_both\", \"above_median\")\n",
    "\n",
    ")"
   ]
  },
  {
   "cell_type": "code",
   "execution_count": null,
   "id": "fdf7f8c1",
   "metadata": {},
   "outputs": [],
   "source": []
  }
 ],
 "metadata": {
  "kernelspec": {
   "display_name": "Python 3 (ipykernel)",
   "language": "python",
   "name": "python3"
  },
  "language_info": {
   "codemirror_mode": {
    "name": "ipython",
    "version": 3
   },
   "file_extension": ".py",
   "mimetype": "text/x-python",
   "name": "python",
   "nbconvert_exporter": "python",
   "pygments_lexer": "ipython3",
   "version": "3.11.0"
  }
 },
 "nbformat": 4,
 "nbformat_minor": 5
}
