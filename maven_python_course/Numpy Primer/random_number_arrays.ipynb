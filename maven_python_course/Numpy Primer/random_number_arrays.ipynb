{
 "cells": [
  {
   "cell_type": "code",
   "execution_count": 1,
   "id": "8ac05232-c604-4ccb-967d-8b28408326fa",
   "metadata": {},
   "outputs": [],
   "source": [
    "import numpy as np\n",
    "from numpy.random import default_rng"
   ]
  },
  {
   "cell_type": "code",
   "execution_count": null,
   "id": "f4d77d9e-5be0-4d54-9a3f-8b77e9e358fc",
   "metadata": {},
   "outputs": [],
   "source": [
    "# default_rng\n",
    "# Creates a random number generator (the seed is for reproducibility)\n",
    "#np.default_rng(seed)"
   ]
  },
  {
   "cell_type": "code",
   "execution_count": null,
   "id": "74aa53ef-fe10-4cd0-a483-1a1b8ba14706",
   "metadata": {},
   "outputs": [],
   "source": [
    "# random\n",
    "#Returns a random numer from a uniform distribution between 0 and 1\n",
    "# rng.random(n)"
   ]
  },
  {
   "cell_type": "code",
   "execution_count": null,
   "id": "2ade83eb-ddd1-499d-b059-35422bf1c0da",
   "metadata": {},
   "outputs": [],
   "source": [
    "# normal\n",
    "# Returns n random numbers from a normal distribution with a given mean and standard deviation\n",
    "# rng.normal(mean, stdev, n)"
   ]
  },
  {
   "cell_type": "code",
   "execution_count": 2,
   "id": "183b0ad8-3aa7-4b35-bd41-dea358350812",
   "metadata": {},
   "outputs": [
    {
     "data": {
      "text/plain": [
       "array([0.22733602, 0.31675834, 0.79736546, 0.67625467, 0.39110955,\n",
       "       0.33281393, 0.59830875, 0.18673419, 0.67275604, 0.94180287])"
      ]
     },
     "execution_count": 2,
     "metadata": {},
     "output_type": "execute_result"
    }
   ],
   "source": [
    "'''\n",
    "Create a random number generator with a seed of 12345 and\n",
    "assign it to 'rng' using default_rng\n",
    "\n",
    "Then we're using the random method on 'rng' to return an\n",
    "array with 10 random numbers\n",
    "'''\n",
    "\n",
    "rng = default_rng(12345)\n",
    "\n",
    "random_array = rng.random(10)\n",
    "random_array"
   ]
  },
  {
   "cell_type": "code",
   "execution_count": 9,
   "id": "ca67d38a-0e1d-4ecd-a868-4892802407de",
   "metadata": {},
   "outputs": [
    {
     "data": {
      "text/plain": [
       "array([3.57617496, 6.26372846, 4.12933826, 4.74082677, 4.92465669,\n",
       "       4.25911535, 3.6322073 , 5.6488928 , 5.36105811, 3.04713694])"
      ]
     },
     "execution_count": 9,
     "metadata": {},
     "output_type": "execute_result"
    }
   ],
   "source": [
    "'''\n",
    "Create a random number generator with a seed of 12345 and\n",
    "assign it to 'rng' using default_rng\n",
    "\n",
    "Then we're using the random normal method\n",
    "pass in a mean of 5 and standard deviation of 1\n",
    "'''\n",
    "\n",
    "rng = default_rng(12345)\n",
    "mean, stddev = 5, 1\n",
    "random_normal = rng.normal(mean, stddev, size= 10)\n",
    "random_normal"
   ]
  },
  {
   "cell_type": "code",
   "execution_count": 10,
   "id": "52434ffc-dfda-4c5e-9bb4-4c5927e1273e",
   "metadata": {},
   "outputs": [
    {
     "data": {
      "text/plain": [
       "array([0.39682145, 0.86568572, 0.46040359, 0.30599848, 0.57381588,\n",
       "       0.08888468, 0.88194347, 0.73228387, 0.73215182, 0.56233394])"
      ]
     },
     "execution_count": 10,
     "metadata": {},
     "output_type": "execute_result"
    }
   ],
   "source": [
    "rng = default_rng(616)\n",
    "\n",
    "rng.random(10)"
   ]
  },
  {
   "cell_type": "code",
   "execution_count": 11,
   "id": "e2cb65cf-2246-4125-8cd1-ac3ea34d3c6d",
   "metadata": {},
   "outputs": [
    {
     "data": {
      "text/plain": [
       "array([8, 3, 6, 0, 3, 3, 1, 2, 2, 4, 9, 1, 2, 5, 1, 8, 9, 0, 3, 1, 5, 8,\n",
       "       0, 6, 1, 7, 0, 7, 6, 0, 3, 7, 1, 9, 4, 1, 6, 1, 4, 4, 9, 5, 3, 4,\n",
       "       7, 8, 3, 3, 5, 0, 4, 9, 9, 5, 6, 5, 8, 2, 3, 0, 0, 8, 3, 8, 4, 8,\n",
       "       8, 9, 7, 3, 8, 4, 9, 2, 6, 3, 0, 3, 2, 0, 0, 4, 9, 5, 4, 1, 8, 2,\n",
       "       7, 7, 1, 2, 2, 4, 1, 6, 7, 3, 7, 5], dtype=int64)"
      ]
     },
     "execution_count": 11,
     "metadata": {},
     "output_type": "execute_result"
    }
   ],
   "source": [
    "rng.integers(0, 10, 100)"
   ]
  },
  {
   "cell_type": "code",
   "execution_count": null,
   "id": "399ffe45-931a-4c59-b7e2-f6201d979a0f",
   "metadata": {},
   "outputs": [],
   "source": []
  }
 ],
 "metadata": {
  "kernelspec": {
   "display_name": "Python 3 (ipykernel)",
   "language": "python",
   "name": "python3"
  },
  "language_info": {
   "codemirror_mode": {
    "name": "ipython",
    "version": 3
   },
   "file_extension": ".py",
   "mimetype": "text/x-python",
   "name": "python",
   "nbconvert_exporter": "python",
   "pygments_lexer": "ipython3",
   "version": "3.11.0"
  }
 },
 "nbformat": 4,
 "nbformat_minor": 5
}
