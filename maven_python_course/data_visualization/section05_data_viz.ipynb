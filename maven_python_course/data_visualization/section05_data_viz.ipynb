{
 "cells": [
  {
   "cell_type": "code",
   "execution_count": 1,
   "id": "5df25f48",
   "metadata": {},
   "outputs": [],
   "source": [
    "import pandas as pd"
   ]
  },
  {
   "cell_type": "code",
   "execution_count": 2,
   "id": "a2bf3eab",
   "metadata": {},
   "outputs": [
    {
     "data": {
      "text/html": [
       "<div>\n",
       "<style scoped>\n",
       "    .dataframe tbody tr th:only-of-type {\n",
       "        vertical-align: middle;\n",
       "    }\n",
       "\n",
       "    .dataframe tbody tr th {\n",
       "        vertical-align: top;\n",
       "    }\n",
       "\n",
       "    .dataframe thead th {\n",
       "        text-align: right;\n",
       "    }\n",
       "</style>\n",
       "<table border=\"1\" class=\"dataframe\">\n",
       "  <thead>\n",
       "    <tr style=\"text-align: right;\">\n",
       "      <th></th>\n",
       "      <th>date</th>\n",
       "      <th>dcoilwtico</th>\n",
       "    </tr>\n",
       "  </thead>\n",
       "  <tbody>\n",
       "    <tr>\n",
       "      <th>0</th>\n",
       "      <td>2013-01-01</td>\n",
       "      <td>NaN</td>\n",
       "    </tr>\n",
       "    <tr>\n",
       "      <th>1</th>\n",
       "      <td>2013-01-02</td>\n",
       "      <td>93.14</td>\n",
       "    </tr>\n",
       "    <tr>\n",
       "      <th>2</th>\n",
       "      <td>2013-01-03</td>\n",
       "      <td>92.97</td>\n",
       "    </tr>\n",
       "    <tr>\n",
       "      <th>3</th>\n",
       "      <td>2013-01-04</td>\n",
       "      <td>93.12</td>\n",
       "    </tr>\n",
       "    <tr>\n",
       "      <th>4</th>\n",
       "      <td>2013-01-07</td>\n",
       "      <td>93.20</td>\n",
       "    </tr>\n",
       "    <tr>\n",
       "      <th>...</th>\n",
       "      <td>...</td>\n",
       "      <td>...</td>\n",
       "    </tr>\n",
       "    <tr>\n",
       "      <th>1213</th>\n",
       "      <td>2017-08-25</td>\n",
       "      <td>47.65</td>\n",
       "    </tr>\n",
       "    <tr>\n",
       "      <th>1214</th>\n",
       "      <td>2017-08-28</td>\n",
       "      <td>46.40</td>\n",
       "    </tr>\n",
       "    <tr>\n",
       "      <th>1215</th>\n",
       "      <td>2017-08-29</td>\n",
       "      <td>46.46</td>\n",
       "    </tr>\n",
       "    <tr>\n",
       "      <th>1216</th>\n",
       "      <td>2017-08-30</td>\n",
       "      <td>45.96</td>\n",
       "    </tr>\n",
       "    <tr>\n",
       "      <th>1217</th>\n",
       "      <td>2017-08-31</td>\n",
       "      <td>47.26</td>\n",
       "    </tr>\n",
       "  </tbody>\n",
       "</table>\n",
       "<p>1218 rows × 2 columns</p>\n",
       "</div>"
      ],
      "text/plain": [
       "            date  dcoilwtico\n",
       "0     2013-01-01         NaN\n",
       "1     2013-01-02       93.14\n",
       "2     2013-01-03       92.97\n",
       "3     2013-01-04       93.12\n",
       "4     2013-01-07       93.20\n",
       "...          ...         ...\n",
       "1213  2017-08-25       47.65\n",
       "1214  2017-08-28       46.40\n",
       "1215  2017-08-29       46.46\n",
       "1216  2017-08-30       45.96\n",
       "1217  2017-08-31       47.26\n",
       "\n",
       "[1218 rows x 2 columns]"
      ]
     },
     "execution_count": 2,
     "metadata": {},
     "output_type": "execute_result"
    }
   ],
   "source": [
    "oil = pd.read_csv(\"../data_visualization/oil.csv\")\n",
    "oil"
   ]
  },
  {
   "cell_type": "markdown",
   "id": "124fcfe4",
   "metadata": {},
   "source": [
    "# Assignment 1: Simple Line Chart\n",
    "\n",
    "Build a simple line plot for the oil series. Are there any interesting patterns here? \n",
    "\n",
    "What happened in 2014 to oil price?"
   ]
  },
  {
   "cell_type": "code",
   "execution_count": 4,
   "id": "769d6b24",
   "metadata": {},
   "outputs": [
    {
     "data": {
      "text/html": [
       "<div>\n",
       "<style scoped>\n",
       "    .dataframe tbody tr th:only-of-type {\n",
       "        vertical-align: middle;\n",
       "    }\n",
       "\n",
       "    .dataframe tbody tr th {\n",
       "        vertical-align: top;\n",
       "    }\n",
       "\n",
       "    .dataframe thead th {\n",
       "        text-align: right;\n",
       "    }\n",
       "</style>\n",
       "<table border=\"1\" class=\"dataframe\">\n",
       "  <thead>\n",
       "    <tr style=\"text-align: right;\">\n",
       "      <th></th>\n",
       "      <th>date</th>\n",
       "      <th>dcoilwtico</th>\n",
       "    </tr>\n",
       "  </thead>\n",
       "  <tbody>\n",
       "    <tr>\n",
       "      <th>0</th>\n",
       "      <td>2013-01-01</td>\n",
       "      <td>NaN</td>\n",
       "    </tr>\n",
       "    <tr>\n",
       "      <th>1</th>\n",
       "      <td>2013-01-02</td>\n",
       "      <td>93.14</td>\n",
       "    </tr>\n",
       "    <tr>\n",
       "      <th>2</th>\n",
       "      <td>2013-01-03</td>\n",
       "      <td>92.97</td>\n",
       "    </tr>\n",
       "    <tr>\n",
       "      <th>3</th>\n",
       "      <td>2013-01-04</td>\n",
       "      <td>93.12</td>\n",
       "    </tr>\n",
       "    <tr>\n",
       "      <th>4</th>\n",
       "      <td>2013-01-07</td>\n",
       "      <td>93.20</td>\n",
       "    </tr>\n",
       "  </tbody>\n",
       "</table>\n",
       "</div>"
      ],
      "text/plain": [
       "         date  dcoilwtico\n",
       "0  2013-01-01         NaN\n",
       "1  2013-01-02       93.14\n",
       "2  2013-01-03       92.97\n",
       "3  2013-01-04       93.12\n",
       "4  2013-01-07       93.20"
      ]
     },
     "execution_count": 4,
     "metadata": {},
     "output_type": "execute_result"
    }
   ],
   "source": [
    "oil.head()"
   ]
  },
  {
   "cell_type": "code",
   "execution_count": 18,
   "id": "18889203",
   "metadata": {},
   "outputs": [
    {
     "data": {
      "image/png": "[encoded data removed]",
      "text/plain": [
       "<Figure size 640x480 with 1 Axes>"
      ]
     },
     "metadata": {},
     "output_type": "display_data"
    }
   ],
   "source": [
    "# define oil date column as date time. set index to date for clearer x axis. added semi colon to remove \n",
    "oil.astype({\"date\":\"datetime64[s]\"}).set_index(\"date\").plot();"
   ]
  },
  {
   "cell_type": "markdown",
   "id": "a11807ca",
   "metadata": {},
   "source": [
    "### Crude oil prices fell sharply in the fourth quarter of 2014 as robust global production exceeded demand. After reaching monthly peaks of $112 per barrel (bbl) and $105/bbl in June, crude oil benchmarks Brent and West Texas Intermediate (WTI) fell to $62/bbl and $59/bbl in December"
   ]
  },
  {
   "cell_type": "code",
   "execution_count": null,
   "id": "1cba0a52",
   "metadata": {},
   "outputs": [],
   "source": []
  },
  {
   "cell_type": "code",
   "execution_count": null,
   "id": "24a7c143",
   "metadata": {},
   "outputs": [],
   "source": []
  },
  {
   "cell_type": "markdown",
   "id": "8583ad04",
   "metadata": {},
   "source": [
    "# Assignment 2: Upgraded Line Chart\n",
    "\n",
    "\n",
    "Give your chart a style, add axis titles, and change the color of the line to black. \n",
    "\n",
    "Consider converting the date column to datetime64.\n",
    "\n",
    "Rename the column to a more intuitive name for the audience."
   ]
  },
  {
   "cell_type": "code",
   "execution_count": null,
   "id": "b9be2c9d",
   "metadata": {},
   "outputs": [],
   "source": []
  },
  {
   "cell_type": "code",
   "execution_count": null,
   "id": "289b836c",
   "metadata": {},
   "outputs": [],
   "source": []
  },
  {
   "cell_type": "code",
   "execution_count": null,
   "id": "95038a31",
   "metadata": {},
   "outputs": [],
   "source": []
  },
  {
   "cell_type": "markdown",
   "id": "8a2e777e",
   "metadata": {},
   "source": [
    "# Assignment 3: Subplots\n",
    "\n",
    "Filter the transactions table to stores 1, 2, 3 and 4, then reshape it so each row is a date, and the columns of the table are the transactions for each store. \n",
    "\n",
    "Once you've done that, create a 2x2 line plot of transactions vs time, with one plot for each store.\n",
    "\n",
    "Thanks!"
   ]
  },
  {
   "cell_type": "code",
   "execution_count": null,
   "id": "30087a08",
   "metadata": {},
   "outputs": [],
   "source": [
    "transactions = pd.read_csv(\"../retail/transactions.csv\")"
   ]
  },
  {
   "cell_type": "code",
   "execution_count": null,
   "id": "b5afc381",
   "metadata": {
    "scrolled": true
   },
   "outputs": [],
   "source": []
  },
  {
   "cell_type": "code",
   "execution_count": null,
   "id": "494b76d1",
   "metadata": {
    "scrolled": true
   },
   "outputs": [],
   "source": []
  },
  {
   "cell_type": "markdown",
   "id": "d65bdfed",
   "metadata": {},
   "source": [
    "# Assignment 4: Bar Charts\n",
    "\n",
    "Create a sorted Bar chart of total sales by store number for stores 1, 2, 3 and 4.\n",
    "\n",
    "Then create a horizontal stacked bar chart of sales by month, stacked by store number. "
   ]
  },
  {
   "cell_type": "code",
   "execution_count": null,
   "id": "040cb0eb",
   "metadata": {},
   "outputs": [],
   "source": [
    "# convert dates to datetime64\n",
    "\n",
    "stores_1234.index = stores_1234.index.astype(\"datetime64[ns]\") \n",
    "\n",
    "stores_1234"
   ]
  },
  {
   "cell_type": "code",
   "execution_count": null,
   "id": "ec11c9dd",
   "metadata": {},
   "outputs": [],
   "source": [
    "# stores_1234.index.month will allow you to groupby the month! You can also slice it.\n"
   ]
  },
  {
   "cell_type": "code",
   "execution_count": null,
   "id": "c29d3eb5",
   "metadata": {},
   "outputs": [],
   "source": []
  },
  {
   "cell_type": "markdown",
   "id": "af4efa8a",
   "metadata": {},
   "source": [
    "# Assignment 5: Scatterplots\n",
    "\n",
    "Plot the relationship between store 2 and store 3 sales.\n",
    "\n",
    "Color the dots by month.\n",
    "\n",
    "Use `c=stores_1234.index.month` to do so."
   ]
  },
  {
   "cell_type": "code",
   "execution_count": null,
   "id": "2acab47b",
   "metadata": {},
   "outputs": [],
   "source": [
    "stores_1234.head()"
   ]
  },
  {
   "cell_type": "code",
   "execution_count": null,
   "id": "c481eedc",
   "metadata": {
    "scrolled": true
   },
   "outputs": [],
   "source": []
  },
  {
   "cell_type": "code",
   "execution_count": null,
   "id": "237fbd80",
   "metadata": {},
   "outputs": [],
   "source": []
  },
  {
   "cell_type": "code",
   "execution_count": null,
   "id": "d83396b0",
   "metadata": {},
   "outputs": [],
   "source": []
  },
  {
   "cell_type": "markdown",
   "id": "2218dddb",
   "metadata": {},
   "source": [
    "# Assignment 6: Histograms\n",
    "\n",
    "Hi there,\n",
    "\n",
    "Can you plot the distributions of sales for stores 2 and 3?\n",
    "\n",
    "I want to see how often store 2 has sales similar to store 3, as well as if there are any outlier type days.\n",
    "\n",
    "Thanks!\n"
   ]
  },
  {
   "cell_type": "code",
   "execution_count": null,
   "id": "884b3fbb",
   "metadata": {},
   "outputs": [],
   "source": [
    "stores_1234.head()"
   ]
  },
  {
   "cell_type": "code",
   "execution_count": null,
   "id": "b95fabc4",
   "metadata": {
    "scrolled": true
   },
   "outputs": [],
   "source": []
  },
  {
   "cell_type": "code",
   "execution_count": null,
   "id": "b7637947",
   "metadata": {},
   "outputs": [],
   "source": []
  }
 ],
 "metadata": {
  "kernelspec": {
   "display_name": "Python 3 (ipykernel)",
   "language": "python",
   "name": "python3"
  },
  "language_info": {
   "codemirror_mode": {
    "name": "ipython",
    "version": 3
   },
   "file_extension": ".py",
   "mimetype": "text/x-python",
   "name": "python",
   "nbconvert_exporter": "python",
   "pygments_lexer": "ipython3",
   "version": "3.11.0"
  }
 },
 "nbformat": 4,
 "nbformat_minor": 5
}
