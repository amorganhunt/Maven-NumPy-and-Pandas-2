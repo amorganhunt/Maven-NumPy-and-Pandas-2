{
 "cells": [
  {
   "cell_type": "markdown",
   "metadata": {},
   "source": [
    "# The MATPLOTLIB API\n",
    "### Pandas used the matplotlib api to create charts and visualize data\n",
    "* This an integration with the main matlotlib library"
   ]
  },
  {
   "cell_type": "code",
   "execution_count": null,
   "metadata": {},
   "outputs": [],
   "source": []
  }
 ],
 "metadata": {
  "language_info": {
   "name": "python"
  }
 },
 "nbformat": 4,
 "nbformat_minor": 2
}
