{
 "cells": [
  {
   "cell_type": "markdown",
   "metadata": {},
   "source": [
    "# Changing Chart Types\n",
    "### You can change chart types with the \"kind\" argument or the attribute for each chart"
   ]
  },
  {
   "cell_type": "code",
   "execution_count": 5,
   "metadata": {},
   "outputs": [],
   "source": [
    "import pandas as pd\n",
    "import numpy as np\n",
    "import matplotlib.pyplot as plt"
   ]
  },
  {
   "cell_type": "code",
   "execution_count": 6,
   "metadata": {},
   "outputs": [
    {
     "data": {
      "text/html": [
       "<div>\n",
       "<style scoped>\n",
       "    .dataframe tbody tr th:only-of-type {\n",
       "        vertical-align: middle;\n",
       "    }\n",
       "\n",
       "    .dataframe tbody tr th {\n",
       "        vertical-align: top;\n",
       "    }\n",
       "\n",
       "    .dataframe thead th {\n",
       "        text-align: right;\n",
       "    }\n",
       "</style>\n",
       "<table border=\"1\" class=\"dataframe\">\n",
       "  <thead>\n",
       "    <tr style=\"text-align: right;\">\n",
       "      <th></th>\n",
       "      <th>date</th>\n",
       "      <th>store_nbr</th>\n",
       "      <th>transactions</th>\n",
       "    </tr>\n",
       "  </thead>\n",
       "  <tbody>\n",
       "    <tr>\n",
       "      <th>0</th>\n",
       "      <td>2013-01-01</td>\n",
       "      <td>25</td>\n",
       "      <td>770</td>\n",
       "    </tr>\n",
       "    <tr>\n",
       "      <th>1</th>\n",
       "      <td>2013-01-02</td>\n",
       "      <td>1</td>\n",
       "      <td>2111</td>\n",
       "    </tr>\n",
       "    <tr>\n",
       "      <th>2</th>\n",
       "      <td>2013-01-02</td>\n",
       "      <td>2</td>\n",
       "      <td>2358</td>\n",
       "    </tr>\n",
       "    <tr>\n",
       "      <th>3</th>\n",
       "      <td>2013-01-02</td>\n",
       "      <td>3</td>\n",
       "      <td>3487</td>\n",
       "    </tr>\n",
       "    <tr>\n",
       "      <th>4</th>\n",
       "      <td>2013-01-02</td>\n",
       "      <td>4</td>\n",
       "      <td>1922</td>\n",
       "    </tr>\n",
       "  </tbody>\n",
       "</table>\n",
       "</div>"
      ],
      "text/plain": [
       "        date  store_nbr  transactions\n",
       "0 2013-01-01         25           770\n",
       "1 2013-01-02          1          2111\n",
       "2 2013-01-02          2          2358\n",
       "3 2013-01-02          3          3487\n",
       "4 2013-01-02          4          1922"
      ]
     },
     "execution_count": 6,
     "metadata": {},
     "output_type": "execute_result"
    }
   ],
   "source": [
    "transactions = pd.read_csv(\"../data_visualization/transactions.csv\", parse_dates=[\"date\"])\n",
    "transactions.head()"
   ]
  },
  {
   "cell_type": "code",
   "execution_count": 3,
   "metadata": {},
   "outputs": [
    {
     "data": {
      "text/plain": [
       "<Axes: xlabel='store_nbr'>"
      ]
     },
     "execution_count": 3,
     "metadata": {},
     "output_type": "execute_result"
    },
    {
     "data": {
      "image/png": "[encoded data removed]",
      "text/plain": [
       "<Figure size 800x500 with 1 Axes>"
      ]
     },
     "metadata": {},
     "output_type": "display_data"
    }
   ],
   "source": [
    "store_40 = list(range(40, 50))\n",
    "\n",
    "(\n",
    "transactions\n",
    " .query(\"store_nbr in @store_40\")\n",
    " .groupby([\"store_nbr\"])\n",
    " .agg({\"transactions\": \"sum\"})\n",
    " .sort_values(by=\"transactions\")\n",
    " .plot.bar(figsize=(8,5))\n",
    ")"
   ]
  },
  {
   "cell_type": "markdown",
   "metadata": {},
   "source": [
    "# Grouped and Stacked Bar Charts\n",
    "### Plotting multiple series with a bar plot will create a grouped bar chart"
   ]
  },
  {
   "cell_type": "code",
   "execution_count": 7,
   "metadata": {},
   "outputs": [
    {
     "data": {
      "text/html": [
       "<div>\n",
       "<style scoped>\n",
       "    .dataframe tbody tr th:only-of-type {\n",
       "        vertical-align: middle;\n",
       "    }\n",
       "\n",
       "    .dataframe tbody tr th {\n",
       "        vertical-align: top;\n",
       "    }\n",
       "\n",
       "    .dataframe thead th {\n",
       "        text-align: right;\n",
       "    }\n",
       "</style>\n",
       "<table border=\"1\" class=\"dataframe\">\n",
       "  <thead>\n",
       "    <tr style=\"text-align: right;\">\n",
       "      <th>store_nbr</th>\n",
       "      <th>40</th>\n",
       "      <th>41</th>\n",
       "      <th>42</th>\n",
       "      <th>43</th>\n",
       "      <th>44</th>\n",
       "      <th>45</th>\n",
       "      <th>46</th>\n",
       "      <th>47</th>\n",
       "      <th>48</th>\n",
       "      <th>49</th>\n",
       "    </tr>\n",
       "    <tr>\n",
       "      <th>date</th>\n",
       "      <th></th>\n",
       "      <th></th>\n",
       "      <th></th>\n",
       "      <th></th>\n",
       "      <th></th>\n",
       "      <th></th>\n",
       "      <th></th>\n",
       "      <th></th>\n",
       "      <th></th>\n",
       "      <th></th>\n",
       "    </tr>\n",
       "  </thead>\n",
       "  <tbody>\n",
       "    <tr>\n",
       "      <th>1</th>\n",
       "      <td>185490</td>\n",
       "      <td>148431</td>\n",
       "      <td>64758</td>\n",
       "      <td>188657</td>\n",
       "      <td>628438</td>\n",
       "      <td>538370</td>\n",
       "      <td>522763</td>\n",
       "      <td>568824</td>\n",
       "      <td>439045</td>\n",
       "      <td>386589</td>\n",
       "    </tr>\n",
       "    <tr>\n",
       "      <th>2</th>\n",
       "      <td>179215</td>\n",
       "      <td>143437</td>\n",
       "      <td>62400</td>\n",
       "      <td>186951</td>\n",
       "      <td>584046</td>\n",
       "      <td>511411</td>\n",
       "      <td>493100</td>\n",
       "      <td>539453</td>\n",
       "      <td>422158</td>\n",
       "      <td>362406</td>\n",
       "    </tr>\n",
       "    <tr>\n",
       "      <th>3</th>\n",
       "      <td>199810</td>\n",
       "      <td>156254</td>\n",
       "      <td>67713</td>\n",
       "      <td>203827</td>\n",
       "      <td>655630</td>\n",
       "      <td>561184</td>\n",
       "      <td>540294</td>\n",
       "      <td>594248</td>\n",
       "      <td>460341</td>\n",
       "      <td>407071</td>\n",
       "    </tr>\n",
       "  </tbody>\n",
       "</table>\n",
       "</div>"
      ],
      "text/plain": [
       "store_nbr      40      41     42      43      44      45      46      47  \\\n",
       "date                                                                       \n",
       "1          185490  148431  64758  188657  628438  538370  522763  568824   \n",
       "2          179215  143437  62400  186951  584046  511411  493100  539453   \n",
       "3          199810  156254  67713  203827  655630  561184  540294  594248   \n",
       "\n",
       "store_nbr      48      49  \n",
       "date                       \n",
       "1          439045  386589  \n",
       "2          422158  362406  \n",
       "3          460341  407071  "
      ]
     },
     "execution_count": 7,
     "metadata": {},
     "output_type": "execute_result"
    }
   ],
   "source": [
    "store_40 = list(range(40, 50))\n",
    "\n",
    "(\n",
    "transactions\n",
    " .query(\"store_nbr in @store_40 and date.dt.month in [1, 2, 3]\")\n",
    " .pivot_table(index=transactions[\"date\"].dt.month,\n",
    "              columns=transactions[\"store_nbr\"],\n",
    "              values=\"transactions\",\n",
    "              aggfunc=\"sum\")\n",
    " #.groupby([\"store_nbr\"])\n",
    " #.agg({\"transactions\": \"sum\"})\n",
    " #.sort_values(by=\"transactions\")\n",
    " #.plot.bar(figsize=(8,5))\n",
    ")"
   ]
  },
  {
   "cell_type": "code",
   "execution_count": 12,
   "metadata": {},
   "outputs": [
    {
     "data": {
      "image/png": "[encoded data removed]",
      "text/plain": [
       "<Figure size 640x480 with 1 Axes>"
      ]
     },
     "metadata": {},
     "output_type": "display_data"
    }
   ],
   "source": [
    "(\n",
    "transactions\n",
    " .query(\"store_nbr in @store_40 and date.dt.month in [1, 2, 3]\")\n",
    " .pivot_table(index=transactions[\"date\"].dt.month,\n",
    "              columns=transactions[\"store_nbr\"],\n",
    "              values=\"transactions\",\n",
    "              aggfunc=\"sum\")\n",
    ").plot.bar(stacked=True).legend(bbox_to_anchor=(1, 1));"
   ]
  },
  {
   "cell_type": "code",
   "execution_count": 13,
   "metadata": {},
   "outputs": [
    {
     "data": {
      "text/plain": [
       "<matplotlib.legend.Legend at 0x2b645467810>"
      ]
     },
     "execution_count": 13,
     "metadata": {},
     "output_type": "execute_result"
    },
    {
     "data": {
      "image/png": "[encoded data removed]",
      "text/plain": [
       "<Figure size 640x480 with 1 Axes>"
      ]
     },
     "metadata": {},
     "output_type": "display_data"
    }
   ],
   "source": [
    "(\n",
    "transactions\n",
    " .query(\"store_nbr in @store_40 and date.dt.month in [1, 2, 3]\")\n",
    " .pivot_table(index=transactions[\"date\"].dt.month,\n",
    "              columns=transactions[\"store_nbr\"],\n",
    "              values=\"transactions\",\n",
    "              aggfunc=\"sum\")\n",
    ").plot.barh(stacked=True).legend(bbox_to_anchor=(1, 1))"
   ]
  },
  {
   "cell_type": "code",
   "execution_count": 17,
   "metadata": {},
   "outputs": [
    {
     "data": {
      "text/plain": [
       "<matplotlib.legend.Legend at 0x2b645535f50>"
      ]
     },
     "execution_count": 17,
     "metadata": {},
     "output_type": "execute_result"
    },
    {
     "data": {
      "image/png": "[encoded data removed]",
      "text/plain": [
       "<Figure size 640x480 with 1 Axes>"
      ]
     },
     "metadata": {},
     "output_type": "display_data"
    }
   ],
   "source": [
    "(\n",
    "transactions\n",
    " .query(\"store_nbr in @store_40 and date.dt.month in [1, 2, 3]\")\n",
    " .pivot_table(index=transactions[\"date\"].dt.month,\n",
    "              columns=transactions[\"store_nbr\"],\n",
    "              values=\"transactions\",\n",
    "              aggfunc=\"sum\").apply(lambda x: x * 100 / sum(x), axis=1)\n",
    ").plot.bar(stacked=True).legend(bbox_to_anchor=(1, 1))"
   ]
  },
  {
   "cell_type": "code",
   "execution_count": null,
   "metadata": {},
   "outputs": [],
   "source": []
  }
 ],
 "metadata": {
  "kernelspec": {
   "display_name": "base",
   "language": "python",
   "name": "python3"
  },
  "language_info": {
   "codemirror_mode": {
    "name": "ipython",
    "version": 3
   },
   "file_extension": ".py",
   "mimetype": "text/x-python",
   "name": "python",
   "nbconvert_exporter": "python",
   "pygments_lexer": "ipython3",
   "version": "3.11.0"
  }
 },
 "nbformat": 4,
 "nbformat_minor": 2
}
