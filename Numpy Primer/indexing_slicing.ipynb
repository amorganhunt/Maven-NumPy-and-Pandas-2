{
 "cells": [
  {
   "cell_type": "markdown",
   "id": "bd9e1055-8e2e-4062-a7ec-5631f36dd864",
   "metadata": {},
   "source": [
    "## python indexing and slicing\n",
    "array[index] - indexing to access a single element (0-indexed)\n",
    "\n",
    "array[start:stop:step size] - slicing to access a series of elements (stop is not inclusive)"
   ]
  },
  {
   "cell_type": "markdown",
   "id": "e26c4dca-a855-45fd-bc7b-c060bd81a678",
   "metadata": {},
   "source": [
    "## indexing and slicing 2 dem arrays require coordinates, or, an extra index or slice\n",
    "\n",
    "array[row index, column index] - indexing to access a single element (0-indexed)\n",
    "\n",
    "array[start:stop:step size, start:stop:step size] - slicing to access a series of elements"
   ]
  },
  {
   "cell_type": "code",
   "execution_count": 1,
   "id": "3baa83e7-a1e1-464f-b9f1-35ad0fad79f6",
   "metadata": {},
   "outputs": [],
   "source": [
    "import numpy as np"
   ]
  },
  {
   "cell_type": "code",
   "execution_count": 2,
   "id": "d4d62dff-9f9c-4a2c-beec-a32be2f1d60c",
   "metadata": {},
   "outputs": [],
   "source": [
    "integer_array = np.arange(12)"
   ]
  },
  {
   "cell_type": "code",
   "execution_count": 3,
   "id": "aa32e837-2024-4448-9834-99636ac76f26",
   "metadata": {},
   "outputs": [
    {
     "data": {
      "text/plain": [
       "array([ 0,  1,  2,  3,  4,  5,  6,  7,  8,  9, 10, 11])"
      ]
     },
     "execution_count": 3,
     "metadata": {},
     "output_type": "execute_result"
    }
   ],
   "source": [
    "integer_array"
   ]
  },
  {
   "cell_type": "code",
   "execution_count": 4,
   "id": "ae3d985a-56ef-4476-90a8-507927f7116a",
   "metadata": {},
   "outputs": [
    {
     "data": {
      "text/plain": [
       "0"
      ]
     },
     "execution_count": 4,
     "metadata": {},
     "output_type": "execute_result"
    }
   ],
   "source": [
    "integer_array[0] #index first element"
   ]
  },
  {
   "cell_type": "code",
   "execution_count": 18,
   "id": "c68955a9-0f64-490b-b967-3e6bac834918",
   "metadata": {},
   "outputs": [
    {
     "data": {
      "text/plain": [
       "1"
      ]
     },
     "execution_count": 18,
     "metadata": {},
     "output_type": "execute_result"
    }
   ],
   "source": [
    "integer_array[1] # index second element"
   ]
  },
  {
   "cell_type": "code",
   "execution_count": 16,
   "id": "acd2c704-3daa-448f-a77b-6561ca4787d2",
   "metadata": {},
   "outputs": [
    {
     "data": {
      "text/plain": [
       "11"
      ]
     },
     "execution_count": 16,
     "metadata": {},
     "output_type": "execute_result"
    }
   ],
   "source": [
    "integer_array[11] # index last elemting by absolute index value"
   ]
  },
  {
   "cell_type": "code",
   "execution_count": 7,
   "id": "a587b5c8-9e9b-4192-a732-7007d5e76f70",
   "metadata": {},
   "outputs": [
    {
     "data": {
      "text/plain": [
       "11"
      ]
     },
     "execution_count": 7,
     "metadata": {},
     "output_type": "execute_result"
    }
   ],
   "source": [
    "integer_array[-1] # index last value by using negative one to jump to the end of the list"
   ]
  },
  {
   "cell_type": "code",
   "execution_count": 8,
   "id": "ffb0cdda-fd2f-45ff-9e70-cfa1af18af83",
   "metadata": {},
   "outputs": [
    {
     "data": {
      "text/plain": [
       "array([0, 1, 2, 3, 4])"
      ]
     },
     "execution_count": 8,
     "metadata": {},
     "output_type": "execute_result"
    }
   ],
   "source": [
    "integer_array[:5] # slicing for the first 5 elements by adding a stop value at the 5th element. 0-indexed so stops at 4 (not inclusive)"
   ]
  },
  {
   "cell_type": "code",
   "execution_count": 9,
   "id": "65b6c1cf-9862-4e3d-8ff4-563a99632586",
   "metadata": {},
   "outputs": [
    {
     "data": {
      "text/plain": [
       "array([ 5,  6,  7,  8,  9, 10, 11])"
      ]
     },
     "execution_count": 9,
     "metadata": {},
     "output_type": "execute_result"
    }
   ],
   "source": [
    "# slicing all the elements after the fith element with no stop. \n",
    "# Since no stop it will return all elements after the 5th untill it can't any\n",
    "\n",
    "integer_array[5:]"
   ]
  },
  {
   "cell_type": "code",
   "execution_count": 19,
   "id": "cfaa9fe3-cb9a-4d67-92c7-a6a0590b47dc",
   "metadata": {},
   "outputs": [
    {
     "data": {
      "text/plain": [
       "array([ 0,  2,  4,  6,  8, 10])"
      ]
     },
     "execution_count": 19,
     "metadata": {},
     "output_type": "execute_result"
    }
   ],
   "source": [
    "integer_array[::2] # step of to. No start and stop so will return all elements in step of 2"
   ]
  },
  {
   "cell_type": "code",
   "execution_count": 33,
   "id": "bc3d1e06-166e-4444-a938-bd138a24020e",
   "metadata": {},
   "outputs": [
    {
     "data": {
      "text/plain": [
       "array([[ 0,  1,  2,  3],\n",
       "       [ 4,  5,  6,  7],\n",
       "       [ 8,  9, 10, 11]])"
      ]
     },
     "execution_count": 33,
     "metadata": {},
     "output_type": "execute_result"
    }
   ],
   "source": [
    "new_array = integer_array.reshape(3, 4) # reshape to a multidemsional array(MDA)\n",
    "new_array"
   ]
  },
  {
   "cell_type": "code",
   "execution_count": 34,
   "id": "8d32d7dc-3bc7-45a3-881e-81dcaf5de06a",
   "metadata": {},
   "outputs": [
    {
     "data": {
      "text/plain": [
       "array([[ 0,  1,  2,  3],\n",
       "       [ 4,  5,  6,  7],\n",
       "       [ 8,  9, 10, 11]])"
      ]
     },
     "execution_count": 34,
     "metadata": {},
     "output_type": "execute_result"
    }
   ],
   "source": [
    "new_array[:, :] # no instruction. Calls entire array"
   ]
  },
  {
   "cell_type": "code",
   "execution_count": 35,
   "id": "43c30658-3fb4-4486-aba0-aac0933297d3",
   "metadata": {},
   "outputs": [
    {
     "data": {
      "text/plain": [
       "array([[ 4,  5,  6,  7],\n",
       "       [ 8,  9, 10, 11]])"
      ]
     },
     "execution_count": 35,
     "metadata": {},
     "output_type": "execute_result"
    }
   ],
   "source": [
    "new_array[1:, :] # calls the second element in the MDA. Meaning it calls the second row onwards but excludes the first element or row in the index"
   ]
  },
  {
   "cell_type": "code",
   "execution_count": 36,
   "id": "db1738bd-2028-4fae-8594-db21583a2def",
   "metadata": {},
   "outputs": [
    {
     "data": {
      "text/plain": [
       "array([ 3,  7, 11])"
      ]
     },
     "execution_count": 36,
     "metadata": {},
     "output_type": "execute_result"
    }
   ],
   "source": [
    "# returns only the last column. 3 is in the cloumn portion of the slice that follows the comma.\n",
    "# Also returns as 1 dem array because we only have one column\n",
    "\n",
    "new_array[:, 3]"
   ]
  },
  {
   "cell_type": "code",
   "execution_count": 37,
   "id": "77e78fa2-869e-41f3-ab0b-50f498133005",
   "metadata": {},
   "outputs": [
    {
     "data": {
      "text/plain": [
       "array([[ 1,  2],\n",
       "       [ 5,  6],\n",
       "       [ 9, 10]])"
      ]
     },
     "execution_count": 37,
     "metadata": {},
     "output_type": "execute_result"
    }
   ],
   "source": [
    "new_array[:, 1:3] # this will exclude the final column because stop is not inclusive"
   ]
  },
  {
   "cell_type": "code",
   "execution_count": 40,
   "id": "884bb7c6-4869-40d6-a4a2-a4d994053838",
   "metadata": {},
   "outputs": [
    {
     "data": {
      "text/plain": [
       "9"
      ]
     },
     "execution_count": 40,
     "metadata": {},
     "output_type": "execute_result"
    }
   ],
   "source": [
    "new_array[2, 1]"
   ]
  },
  {
   "cell_type": "code",
   "execution_count": null,
   "id": "acb7949d-814d-4fe9-abf1-ef66c08718e8",
   "metadata": {},
   "outputs": [],
   "source": []
  }
 ],
 "metadata": {
  "kernelspec": {
   "display_name": "Python 3 (ipykernel)",
   "language": "python",
   "name": "python3"
  },
  "language_info": {
   "codemirror_mode": {
    "name": "ipython",
    "version": 3
   },
   "file_extension": ".py",
   "mimetype": "text/x-python",
   "name": "python",
   "nbconvert_exporter": "python",
   "pygments_lexer": "ipython3",
   "version": "3.11.0"
  }
 },
 "nbformat": 4,
 "nbformat_minor": 5
}
