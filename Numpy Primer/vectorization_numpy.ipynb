{
 "cells": [
  {
   "cell_type": "markdown",
   "metadata": {},
   "source": [
    "## <center> Vectorization in Numpy</center>"
   ]
  },
  {
   "cell_type": "markdown",
   "metadata": {},
   "source": [
    "### The process of pushing array operations into optimized C code, which is easier and more efficent than writing for loops"
   ]
  },
  {
   "cell_type": "code",
   "execution_count": 9,
   "metadata": {},
   "outputs": [],
   "source": [
    "import numpy as np"
   ]
  },
  {
   "cell_type": "code",
   "execution_count": 14,
   "metadata": {},
   "outputs": [],
   "source": [
    "def for_loop_multiply_lists(list1, list2): # Function that multiplies two Python lists.\n",
    "    product_list = []\n",
    "    for element1, element2 in zip(list1, list2):\n",
    "        product_list.append(element1 * element2)\n",
    "    return product_list\n",
    "\n",
    "def multiply_arrays(array1, array2): # Function that multiplies two NumPy arrays\n",
    "    return array1 * array2"
   ]
  },
  {
   "cell_type": "code",
   "execution_count": 15,
   "metadata": {},
   "outputs": [],
   "source": [
    "range1 = list(range(1000))\n",
    "range2 = list(range(1000))"
   ]
  },
  {
   "cell_type": "code",
   "execution_count": 22,
   "metadata": {},
   "outputs": [
    {
     "name": "stdout",
     "output_type": "stream",
     "text": [
      "59.8 µs ± 540 ns per loop (mean ± std. dev. of 5 runs, 10,000 loops each)\n"
     ]
    }
   ],
   "source": [
    "%%timeit -r 5 -n 10000 # Generating two lists\n",
    "for_loop_multiply_lists(range1, range2)"
   ]
  },
  {
   "cell_type": "code",
   "execution_count": 19,
   "metadata": {},
   "outputs": [],
   "source": [
    "array1 = np.array(range1)\n",
    "array2 = np.array(range2)"
   ]
  },
  {
   "cell_type": "code",
   "execution_count": 21,
   "metadata": {},
   "outputs": [
    {
     "name": "stdout",
     "output_type": "stream",
     "text": [
      "1.3 µs ± 45.2 ns per loop (mean ± std. dev. of 5 runs, 10,000 loops each)\n"
     ]
    }
   ],
   "source": [
    "%%timeit -r 5 -n 10000 # Generating and multiplying two arrays\n",
    "multiply_arrays(array1, array2)"
   ]
  },
  {
   "cell_type": "code",
   "execution_count": null,
   "metadata": {},
   "outputs": [],
   "source": []
  }
 ],
 "metadata": {
  "kernelspec": {
   "display_name": "base",
   "language": "python",
   "name": "python3"
  },
  "language_info": {
   "codemirror_mode": {
    "name": "ipython",
    "version": 3
   },
   "file_extension": ".py",
   "mimetype": "text/x-python",
   "name": "python",
   "nbconvert_exporter": "python",
   "pygments_lexer": "ipython3",
   "version": "3.11.0"
  }
 },
 "nbformat": 4,
 "nbformat_minor": 2
}
