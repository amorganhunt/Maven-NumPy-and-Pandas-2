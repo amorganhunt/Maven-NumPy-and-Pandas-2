{
 "cells": [
  {
   "cell_type": "code",
   "execution_count": 1,
   "metadata": {},
   "outputs": [],
   "source": [
    "import numpy as np\n",
    "import pandas as pd"
   ]
  },
  {
   "cell_type": "code",
   "execution_count": 11,
   "metadata": {},
   "outputs": [
    {
     "name": "stdout",
     "output_type": "stream",
     "text": [
      "Aggregated DataFrame:\n",
      "         Sales       \n",
      "           sum   mean\n",
      "Category             \n",
      "A          300  150.0\n",
      "B         1200  400.0\n",
      "C         1300  650.0\n",
      "\n",
      "Original DataFrame with Mean Sales and Deviation:\n",
      "  Category  Sales  Mean_Sales  Deviation_From_Mean\n",
      "0        A    100       150.0                -50.0\n",
      "1        A    200       150.0                 50.0\n",
      "2        B    300       400.0               -100.0\n",
      "3        B    400       400.0                  0.0\n",
      "4        B    500       400.0                100.0\n",
      "5        C    600       650.0                -50.0\n",
      "6        C    700       650.0                 50.0\n"
     ]
    }
   ],
   "source": [
    "import pandas as pd\n",
    "\n",
    "# Sample DataFrame\n",
    "data = {\n",
    "    'Category': ['A', 'A', 'B', 'B', 'B', 'C', 'C'],\n",
    "    'Sales': [100, 200, 300, 400, 500, 600, 700]\n",
    "}\n",
    "df = pd.DataFrame(data)\n",
    "\n",
    "# Step 1: Group by 'Category'\n",
    "grouped = df.groupby('Category')\n",
    "grouped\n",
    "\n",
    "# Step 2: Aggregate total and mean sales per category\n",
    "aggregated = grouped.agg({'Sales': ['sum', 'mean']})\n",
    "print(\"Aggregated DataFrame:\")\n",
    "print(aggregated)\n",
    "\n",
    "# Step 3: Transform to get the mean sales for each sale in the original DataFrame\n",
    "df['Mean_Sales'] = grouped['Sales'].transform('mean')\n",
    "df\n",
    "\n",
    "# Step 4: Calculate deviation from the mean\n",
    "df['Deviation_From_Mean'] = df['Sales'] - df['Mean_Sales']\n",
    "\n",
    "print(\"\\nOriginal DataFrame with Mean Sales and Deviation:\")\n",
    "print(df)"
   ]
  },
  {
   "cell_type": "code",
   "execution_count": null,
   "metadata": {},
   "outputs": [],
   "source": []
  },
  {
   "cell_type": "code",
   "execution_count": null,
   "metadata": {},
   "outputs": [],
   "source": []
  }
 ],
 "metadata": {
  "kernelspec": {
   "display_name": "base",
   "language": "python",
   "name": "python3"
  },
  "language_info": {
   "codemirror_mode": {
    "name": "ipython",
    "version": 3
   },
   "file_extension": ".py",
   "mimetype": "text/x-python",
   "name": "python",
   "nbconvert_exporter": "python",
   "pygments_lexer": "ipython3",
   "version": "3.11.7"
  }
 },
 "nbformat": 4,
 "nbformat_minor": 2
}
